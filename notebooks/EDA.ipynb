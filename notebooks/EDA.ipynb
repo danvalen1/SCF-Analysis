{
 "cells": [
  {
   "cell_type": "markdown",
   "metadata": {},
   "source": [
    "# EDA and Cleaning"
   ]
  },
  {
   "cell_type": "code",
   "execution_count": 10,
   "metadata": {},
   "outputs": [
    {
     "name": "stdout",
     "output_type": "stream",
     "text": [
      "The autoreload extension is already loaded. To reload it, use:\n",
      "  %reload_ext autoreload\n"
     ]
    }
   ],
   "source": [
    "%load_ext autoreload\n",
    "%autoreload 2\n",
    "import os\n",
    "import sys\n",
    "import pandas as pd\n",
    "\n",
    "module_path = os.path.abspath(os.path.join(os.pardir, 'src'))\n",
    "if module_path not in sys.path:\n",
    "    sys.path.append(module_path)\n",
    "    \n",
    "from modules import dataloading as dl\n",
    "from modules import Viz\n",
    "\n",
    "import matplotlib.pyplot as plt\n",
    "import seaborn as sns\n",
    "\n",
    "targetdir = \"../data/extracted/\"\n",
    "figtargetdir = \"../images/\""
   ]
  },
  {
   "cell_type": "markdown",
   "metadata": {},
   "source": [
    "## Liquid net worth generally"
   ]
  },
  {
   "cell_type": "markdown",
   "metadata": {},
   "source": [
    "This section aims to show the distribution of liquid net worth generally under `lqd_assets`. What an initial Pandas describe shows is that it appears there is an extreme skew as even from the 75th percentile to the maximum value there is an increase of the order of magnitude by 3. The next step would be to visualize this."
   ]
  },
  {
   "cell_type": "code",
   "execution_count": 11,
   "metadata": {},
   "outputs": [
    {
     "data": {
      "text/html": [
       "<div>\n",
       "<style scoped>\n",
       "    .dataframe tbody tr th:only-of-type {\n",
       "        vertical-align: middle;\n",
       "    }\n",
       "\n",
       "    .dataframe tbody tr th {\n",
       "        vertical-align: top;\n",
       "    }\n",
       "\n",
       "    .dataframe thead th {\n",
       "        text-align: right;\n",
       "    }\n",
       "</style>\n",
       "<table border=\"1\" class=\"dataframe\">\n",
       "  <thead>\n",
       "    <tr style=\"text-align: right;\">\n",
       "      <th></th>\n",
       "      <th>weighting</th>\n",
       "      <th>persons_in_PEU</th>\n",
       "      <th>spouse_part_of_PEU</th>\n",
       "      <th>ref_age</th>\n",
       "      <th>spouse_age</th>\n",
       "      <th>ref_sex</th>\n",
       "      <th>spouse_sex</th>\n",
       "      <th>ref_race</th>\n",
       "      <th>ref_educ</th>\n",
       "      <th>spouse_educ</th>\n",
       "      <th>...</th>\n",
       "      <th>bachelor_deg</th>\n",
       "      <th>assoc_deg</th>\n",
       "      <th>hs_deg</th>\n",
       "      <th>educ_bins_s</th>\n",
       "      <th>doctorate_deg_s</th>\n",
       "      <th>master_deg_s</th>\n",
       "      <th>bachelor_deg_s</th>\n",
       "      <th>assoc_deg_s</th>\n",
       "      <th>hs_deg_s</th>\n",
       "      <th>1k_target</th>\n",
       "    </tr>\n",
       "    <tr>\n",
       "      <th>household_id</th>\n",
       "      <th></th>\n",
       "      <th></th>\n",
       "      <th></th>\n",
       "      <th></th>\n",
       "      <th></th>\n",
       "      <th></th>\n",
       "      <th></th>\n",
       "      <th></th>\n",
       "      <th></th>\n",
       "      <th></th>\n",
       "      <th></th>\n",
       "      <th></th>\n",
       "      <th></th>\n",
       "      <th></th>\n",
       "      <th></th>\n",
       "      <th></th>\n",
       "      <th></th>\n",
       "      <th></th>\n",
       "      <th></th>\n",
       "      <th></th>\n",
       "      <th></th>\n",
       "    </tr>\n",
       "  </thead>\n",
       "  <tbody>\n",
       "    <tr>\n",
       "      <th>1</th>\n",
       "      <td>26037.0</td>\n",
       "      <td>1.0</td>\n",
       "      <td>1.0</td>\n",
       "      <td>75.0</td>\n",
       "      <td>0.0</td>\n",
       "      <td>2.0</td>\n",
       "      <td>0.0</td>\n",
       "      <td>1.0</td>\n",
       "      <td>12.0</td>\n",
       "      <td>0.0</td>\n",
       "      <td>...</td>\n",
       "      <td>1</td>\n",
       "      <td>0</td>\n",
       "      <td>0</td>\n",
       "      <td>0</td>\n",
       "      <td>0</td>\n",
       "      <td>0</td>\n",
       "      <td>0</td>\n",
       "      <td>0</td>\n",
       "      <td>0</td>\n",
       "      <td>1</td>\n",
       "    </tr>\n",
       "    <tr>\n",
       "      <th>2</th>\n",
       "      <td>18970.0</td>\n",
       "      <td>5.0</td>\n",
       "      <td>2.0</td>\n",
       "      <td>50.0</td>\n",
       "      <td>39.0</td>\n",
       "      <td>1.0</td>\n",
       "      <td>2.0</td>\n",
       "      <td>1.0</td>\n",
       "      <td>8.0</td>\n",
       "      <td>8.0</td>\n",
       "      <td>...</td>\n",
       "      <td>0</td>\n",
       "      <td>0</td>\n",
       "      <td>0</td>\n",
       "      <td>1</td>\n",
       "      <td>1</td>\n",
       "      <td>0</td>\n",
       "      <td>0</td>\n",
       "      <td>0</td>\n",
       "      <td>0</td>\n",
       "      <td>0</td>\n",
       "    </tr>\n",
       "    <tr>\n",
       "      <th>3</th>\n",
       "      <td>20483.0</td>\n",
       "      <td>2.0</td>\n",
       "      <td>2.0</td>\n",
       "      <td>53.0</td>\n",
       "      <td>49.0</td>\n",
       "      <td>1.0</td>\n",
       "      <td>2.0</td>\n",
       "      <td>1.0</td>\n",
       "      <td>8.0</td>\n",
       "      <td>8.0</td>\n",
       "      <td>...</td>\n",
       "      <td>0</td>\n",
       "      <td>0</td>\n",
       "      <td>0</td>\n",
       "      <td>1</td>\n",
       "      <td>1</td>\n",
       "      <td>0</td>\n",
       "      <td>0</td>\n",
       "      <td>0</td>\n",
       "      <td>0</td>\n",
       "      <td>1</td>\n",
       "    </tr>\n",
       "    <tr>\n",
       "      <th>4</th>\n",
       "      <td>31785.0</td>\n",
       "      <td>2.0</td>\n",
       "      <td>2.0</td>\n",
       "      <td>29.0</td>\n",
       "      <td>28.0</td>\n",
       "      <td>1.0</td>\n",
       "      <td>2.0</td>\n",
       "      <td>1.0</td>\n",
       "      <td>13.0</td>\n",
       "      <td>14.0</td>\n",
       "      <td>...</td>\n",
       "      <td>0</td>\n",
       "      <td>1</td>\n",
       "      <td>0</td>\n",
       "      <td>5</td>\n",
       "      <td>0</td>\n",
       "      <td>0</td>\n",
       "      <td>0</td>\n",
       "      <td>0</td>\n",
       "      <td>1</td>\n",
       "      <td>1</td>\n",
       "    </tr>\n",
       "    <tr>\n",
       "      <th>5</th>\n",
       "      <td>21046.0</td>\n",
       "      <td>2.0</td>\n",
       "      <td>2.0</td>\n",
       "      <td>47.0</td>\n",
       "      <td>39.0</td>\n",
       "      <td>1.0</td>\n",
       "      <td>2.0</td>\n",
       "      <td>1.0</td>\n",
       "      <td>8.0</td>\n",
       "      <td>8.0</td>\n",
       "      <td>...</td>\n",
       "      <td>0</td>\n",
       "      <td>0</td>\n",
       "      <td>0</td>\n",
       "      <td>1</td>\n",
       "      <td>1</td>\n",
       "      <td>0</td>\n",
       "      <td>0</td>\n",
       "      <td>0</td>\n",
       "      <td>0</td>\n",
       "      <td>0</td>\n",
       "    </tr>\n",
       "  </tbody>\n",
       "</table>\n",
       "<p>5 rows × 50 columns</p>\n",
       "</div>"
      ],
      "text/plain": [
       "              weighting  persons_in_PEU  spouse_part_of_PEU  ref_age  \\\n",
       "household_id                                                           \n",
       "1               26037.0             1.0                 1.0     75.0   \n",
       "2               18970.0             5.0                 2.0     50.0   \n",
       "3               20483.0             2.0                 2.0     53.0   \n",
       "4               31785.0             2.0                 2.0     29.0   \n",
       "5               21046.0             2.0                 2.0     47.0   \n",
       "\n",
       "              spouse_age  ref_sex  spouse_sex  ref_race  ref_educ  \\\n",
       "household_id                                                        \n",
       "1                    0.0      2.0         0.0       1.0      12.0   \n",
       "2                   39.0      1.0         2.0       1.0       8.0   \n",
       "3                   49.0      1.0         2.0       1.0       8.0   \n",
       "4                   28.0      1.0         2.0       1.0      13.0   \n",
       "5                   39.0      1.0         2.0       1.0       8.0   \n",
       "\n",
       "              spouse_educ  ...  bachelor_deg  assoc_deg  hs_deg  educ_bins_s  \\\n",
       "household_id               ...                                                 \n",
       "1                     0.0  ...             1          0       0            0   \n",
       "2                     8.0  ...             0          0       0            1   \n",
       "3                     8.0  ...             0          0       0            1   \n",
       "4                    14.0  ...             0          1       0            5   \n",
       "5                     8.0  ...             0          0       0            1   \n",
       "\n",
       "              doctorate_deg_s  master_deg_s  bachelor_deg_s  assoc_deg_s  \\\n",
       "household_id                                                               \n",
       "1                           0             0               0            0   \n",
       "2                           1             0               0            0   \n",
       "3                           1             0               0            0   \n",
       "4                           0             0               0            0   \n",
       "5                           1             0               0            0   \n",
       "\n",
       "              hs_deg_s  1k_target  \n",
       "household_id                       \n",
       "1                    0          1  \n",
       "2                    0          0  \n",
       "3                    0          1  \n",
       "4                    1          1  \n",
       "5                    0          0  \n",
       "\n",
       "[5 rows x 50 columns]"
      ]
     },
     "execution_count": 11,
     "metadata": {},
     "output_type": "execute_result"
    }
   ],
   "source": [
    "df = pd.read_stata(targetdir + 'scf2019s/p19i6.dta', columns=dl.sel_vars)\n",
    "df.columns = [x.lower() for x in df.columns]\n",
    "df.rename(columns=dl.rename_dict, inplace=True)\n",
    "df = dl.clean_SCF_df(df)\n",
    "df.head()"
   ]
  },
  {
   "cell_type": "code",
   "execution_count": null,
   "metadata": {},
   "outputs": [],
   "source": [
    "df.lqd_assets.describe()"
   ]
  },
  {
   "cell_type": "code",
   "execution_count": null,
   "metadata": {},
   "outputs": [],
   "source": []
  },
  {
   "cell_type": "markdown",
   "metadata": {},
   "source": [
    "## Liquid Assets Viz"
   ]
  },
  {
   "cell_type": "markdown",
   "metadata": {},
   "source": [
    "Below is a cumulative distribution function of the liquid net worth of U.S. households. Weights are used to account for the fact that the dataset oversamples more well-off households. That can be seen in the second graph which shows that at the \\$1,000 mark, the  number of people that have at most that mount of money increases from about 20% to about 24%. And on the higher end of the wealth spectrum, you can see that there is an even greater increase of people that have at most \\\\$100,000 in liquid net worth."
   ]
  },
  {
   "cell_type": "code",
   "execution_count": null,
   "metadata": {},
   "outputs": [],
   "source": [
    "Viz.lqdassetsViz(df, figtargetdir, stat=\"proportion\", weighted=True)"
   ]
  },
  {
   "cell_type": "code",
   "execution_count": null,
   "metadata": {},
   "outputs": [],
   "source": [
    "Viz.lqdassetsViz(df, figtargetdir, stat = \"proportion\", weighted=True, both=True)"
   ]
  },
  {
   "cell_type": "markdown",
   "metadata": {},
   "source": [
    "## `1k_target` analysis"
   ]
  },
  {
   "cell_type": "markdown",
   "metadata": {},
   "source": [
    "This section analyzes the variable that the model will target, which is an indicator variables showing whether a household has at least \\$1,000 in liquid assets to invest with Vanguard."
   ]
  },
  {
   "cell_type": "markdown",
   "metadata": {},
   "source": [
    "### Counts"
   ]
  },
  {
   "cell_type": "markdown",
   "metadata": {},
   "source": [
    "The two calculations below confirm the visual estimates done above: the weighted data shows that about 24% of the population has at most \\$1,000. "
   ]
  },
  {
   "cell_type": "code",
   "execution_count": null,
   "metadata": {},
   "outputs": [],
   "source": [
    "# Unweighted\n",
    "vcs_uw = df['1k_target'].value_counts()\n",
    "\n",
    "#proportion of non-target population\n",
    "vcs_uw[0]/vcs_uw.sum()"
   ]
  },
  {
   "cell_type": "code",
   "execution_count": null,
   "metadata": {},
   "outputs": [],
   "source": [
    "# Weighted\n",
    "vcs_w = df.groupby('1k_target').weighting.sum()\n",
    "\n",
    "\n",
    "# proportion of non-target population\n",
    "vcs_w[0]/vcs_w.sum()"
   ]
  },
  {
   "cell_type": "markdown",
   "metadata": {},
   "source": [
    "### Breakdown of lqd_assets"
   ]
  },
  {
   "cell_type": "markdown",
   "metadata": {},
   "source": [
    "An attempt is made to show how much total assets is within each class of households. The calculations below show a class imbalance in another sense: those in the bottom 20% of the distribution of liquid assets collectively have 0.06% of all of liquid assets. This may imply that there are more ways to have lots of money than there are ways to have no money."
   ]
  },
  {
   "cell_type": "code",
   "execution_count": null,
   "metadata": {},
   "outputs": [],
   "source": [
    "df['lqd_assets_w'] = df.lqd_assets * df.weighting\n",
    "\n",
    "# Total amount of liquid assets outside of target\n",
    "tot_nontarget = df.groupby('1k_target').lqd_assets_w.sum()[0] #9.42 bn weighted\n",
    "tot_nontarget_str = '{:,.2f}'.format(tot_nontarget)\n",
    "print(tot_nontarget_str)\n",
    "# total potential fees collected by vanguard multiplying total lqd_assets by avg mutual fund rate\n",
    "print(f\"Potential fees: {tot_nontarget*.001}\") # 9.5 mm"
   ]
  },
  {
   "cell_type": "code",
   "execution_count": null,
   "metadata": {},
   "outputs": [],
   "source": [
    "# Total amount of liquid assets within target\n",
    "tot_target = df.groupby('1k_target').lqd_assets_w.sum()[1] #15 tn weighted\n",
    "tot_target_str = '{:,.2f}'.format(tot_target)\n",
    "print(tot_target_str)\n",
    "\n",
    "# total potential fees collected by vanguard multiplying total lqd_assets by avg mutual fund rate\n",
    "print(f\"Potential fees: {tot_target*.001}\") # 15 bn"
   ]
  },
  {
   "cell_type": "code",
   "execution_count": 23,
   "metadata": {},
   "outputs": [
    {
     "data": {
      "image/png": "[encoded data removed]",
      "text/plain": [
       "<Figure size 1080x864 with 1 Axes>"
      ]
     },
     "metadata": {},
     "output_type": "display_data"
    }
   ],
   "source": [
    "Viz.lqdassetsViz2(df, figtargetdir)"
   ]
  },
  {
   "cell_type": "code",
   "execution_count": 10,
   "metadata": {},
   "outputs": [
    {
     "data": {
      "text/plain": [
       "0.062280271594356625"
      ]
     },
     "execution_count": 10,
     "metadata": {},
     "output_type": "execute_result"
    }
   ],
   "source": [
    "# Share of total liquid assets of non-target population\n",
    "(tot_nontarget / (tot_nontarget + tot_target))*100"
   ]
  },
  {
   "cell_type": "code",
   "execution_count": 11,
   "metadata": {},
   "outputs": [
    {
     "data": {
      "text/plain": [
       "1604.6448926767566"
      ]
     },
     "execution_count": 11,
     "metadata": {},
     "output_type": "execute_result"
    }
   ],
   "source": [
    "# multiplier\n",
    "tot_target / tot_nontarget"
   ]
  },
  {
   "cell_type": "markdown",
   "metadata": {},
   "source": [
    "### Age and Education"
   ]
  },
  {
   "cell_type": "code",
   "execution_count": 12,
   "metadata": {},
   "outputs": [
    {
     "data": {
      "text/plain": [
       "count    5777.000000\n",
       "mean       53.219837\n",
       "std        16.244778\n",
       "min        18.000000\n",
       "25%        40.000000\n",
       "50%        54.000000\n",
       "75%        65.000000\n",
       "max        95.000000\n",
       "Name: ref_age, dtype: float64"
      ]
     },
     "execution_count": 12,
     "metadata": {},
     "output_type": "execute_result"
    }
   ],
   "source": [
    "df.ref_age.describe()"
   ]
  },
  {
   "cell_type": "code",
   "execution_count": 13,
   "metadata": {},
   "outputs": [],
   "source": [
    "import numpy as np\n",
    "\n",
    "import seaborn as sns\n",
    "import matplotlib.pyplot as plt\n",
    "\n",
    "df['age_bins'] = pd.cut(x=df['ref_age'], bins=[17, 29, 45, 59, 75, 95])"
   ]
  },
  {
   "cell_type": "code",
   "execution_count": 14,
   "metadata": {},
   "outputs": [
    {
     "data": {
      "text/plain": [
       "(59, 75]    1724\n",
       "(45, 59]    1655\n",
       "(29, 45]    1422\n",
       "(17, 29]     499\n",
       "(75, 95]     477\n",
       "Name: age_bins, dtype: int64"
      ]
     },
     "execution_count": 14,
     "metadata": {},
     "output_type": "execute_result"
    }
   ],
   "source": [
    "\n",
    "df['age_bins'].value_counts()"
   ]
  },
  {
   "cell_type": "code",
   "execution_count": 15,
   "metadata": {},
   "outputs": [
    {
     "data": {
      "text/plain": [
       "<seaborn.axisgrid.FacetGrid at 0x7ff4270849e8>"
      ]
     },
     "execution_count": 15,
     "metadata": {},
     "output_type": "execute_result"
    },
    {
     "data": {
      "image/png": "[encoded data removed]",
      "text/plain": [
       "<Figure size 1080x720 with 6 Axes>"
      ]
     },
     "metadata": {
      "needs_background": "light"
     },
     "output_type": "display_data"
    }
   ],
   "source": [
    "sns.catplot(x=\"age_bins\",\n",
    "            y='lqd_assets',\n",
    "            col=\"educ_bins\", \n",
    "            col_wrap=3,\n",
    "            data=df,\n",
    "            kind='bar',\n",
    "            ci=None,\n",
    "            estimator=np.median\n",
    "           )"
   ]
  },
  {
   "cell_type": "code",
   "execution_count": 16,
   "metadata": {},
   "outputs": [
    {
     "data": {
      "image/png": "[encoded data removed]",
      "text/plain": [
       "<Figure size 360x360 with 1 Axes>"
      ]
     },
     "metadata": {
      "needs_background": "light"
     },
     "output_type": "display_data"
    },
    {
     "data": {
      "image/png": "[encoded data removed]",
      "text/plain": [
       "<Figure size 360x360 with 1 Axes>"
      ]
     },
     "metadata": {
      "needs_background": "light"
     },
     "output_type": "display_data"
    },
    {
     "data": {
      "image/png": "[encoded data removed]",
      "text/plain": [
       "<Figure size 360x360 with 1 Axes>"
      ]
     },
     "metadata": {
      "needs_background": "light"
     },
     "output_type": "display_data"
    },
    {
     "data": {
      "image/png": "[encoded data removed]",
      "text/plain": [
       "<Figure size 360x360 with 1 Axes>"
      ]
     },
     "metadata": {
      "needs_background": "light"
     },
     "output_type": "display_data"
    },
    {
     "data": {
      "image/png": "[encoded data removed]",
      "text/plain": [
       "<Figure size 360x360 with 1 Axes>"
      ]
     },
     "metadata": {
      "needs_background": "light"
     },
     "output_type": "display_data"
    }
   ],
   "source": [
    "\n",
    "def make_f(i):\n",
    "    def my_func(x, q=i, **kws):\n",
    "        quant = np.quantile(x, q)\n",
    "        return quant\n",
    "    return my_func\n",
    "\n",
    "func_dict = {}   \n",
    "for q in [.1, .25, .5, .75, .9]:\n",
    "    func_dict[q] = make_f(q)\n",
    "    \n",
    "    \n",
    "for i in func_dict:\n",
    "    sns.catplot(x=\"age_bins\",\n",
    "                y='lqd_assets',\n",
    "                data=df,\n",
    "                kind='bar',\n",
    "                estimator=func_dict[i],\n",
    "                ci=None\n",
    "               )"
   ]
  },
  {
   "cell_type": "markdown",
   "metadata": {},
   "source": [
    "## Checking and cleaning cat vars"
   ]
  },
  {
   "cell_type": "code",
   "execution_count": 17,
   "metadata": {},
   "outputs": [
    {
     "data": {
      "text/plain": [
       "dict_keys(['dfs', 'value_counts'])"
      ]
     },
     "execution_count": 17,
     "metadata": {},
     "output_type": "execute_result"
    }
   ],
   "source": [
    "df = pd.read_stata(targetdir + 'scf2019s/p19i6.dta', columns=dl.sel_vars)\n",
    "df.columns = [x.lower() for x in df.columns]\n",
    "df.rename(columns=dl.rename_dict, inplace=True)\n",
    "df = dl.clean_SCF_df(df, neg_vals=True)\n",
    "\n",
    "\n",
    "# Variables with negative values\n",
    "negs_dict = {'dfs': {}, 'value_counts': {}}\n",
    "for col in df:\n",
    "    if df[col].min() < 0:\n",
    "        negs_dict['dfs'][col] = df[df[col] < 0]\n",
    "        negs_dict['value_counts'][col] = df[df[col] < 0][col].value_counts()\n",
    "        \n",
    "negs_dict.keys()\n",
    "    "
   ]
  },
  {
   "cell_type": "markdown",
   "metadata": {},
   "source": [
    "These are all of the variables that seem to have negative values, which should not be the case. Investigating case-by-case below."
   ]
  },
  {
   "cell_type": "markdown",
   "metadata": {},
   "source": [
    "### `ref_race`"
   ]
  },
  {
   "cell_type": "code",
   "execution_count": 18,
   "metadata": {},
   "outputs": [
    {
     "data": {
      "text/plain": [
       "-7.0    335\n",
       "Name: ref_race, dtype: int64"
      ]
     },
     "execution_count": 18,
     "metadata": {},
     "output_type": "execute_result"
    }
   ],
   "source": [
    "var = 'ref_race'\n",
    "negs_dict['value_counts'][var]"
   ]
  },
  {
   "cell_type": "code",
   "execution_count": 19,
   "metadata": {},
   "outputs": [
    {
     "data": {
      "text/plain": [
       "Int64Index([  20,   25,   33,   46,   59,   69,   78,   97,  151,  168,\n",
       "            ...\n",
       "            5615, 5631, 5643, 5654, 5683, 5715, 5737, 5755, 5778, 5811],\n",
       "           dtype='int64', name='household_id', length=335)"
      ]
     },
     "execution_count": 19,
     "metadata": {},
     "output_type": "execute_result"
    }
   ],
   "source": [
    "df[df[var] == -7.0].index"
   ]
  },
  {
   "cell_type": "code",
   "execution_count": 20,
   "metadata": {},
   "outputs": [
    {
     "data": {
      "text/html": [
       "<div>\n",
       "<style scoped>\n",
       "    .dataframe tbody tr th:only-of-type {\n",
       "        vertical-align: middle;\n",
       "    }\n",
       "\n",
       "    .dataframe tbody tr th {\n",
       "        vertical-align: top;\n",
       "    }\n",
       "\n",
       "    .dataframe thead th {\n",
       "        text-align: right;\n",
       "    }\n",
       "</style>\n",
       "<table border=\"1\" class=\"dataframe\">\n",
       "  <thead>\n",
       "    <tr style=\"text-align: right;\">\n",
       "      <th></th>\n",
       "      <th>household_id</th>\n",
       "      <th>weighting</th>\n",
       "      <th>persons_in_PEU</th>\n",
       "      <th>spouse_part_of_PEU</th>\n",
       "      <th>ref_age</th>\n",
       "      <th>spouse_age</th>\n",
       "      <th>ref_sex</th>\n",
       "      <th>spouse_sex</th>\n",
       "      <th>ref_race</th>\n",
       "      <th>ref_educ</th>\n",
       "      <th>...</th>\n",
       "      <th>x3748</th>\n",
       "      <th>x3754</th>\n",
       "      <th>x3760</th>\n",
       "      <th>x3765</th>\n",
       "      <th>x3732</th>\n",
       "      <th>x3738</th>\n",
       "      <th>x3744</th>\n",
       "      <th>x3750</th>\n",
       "      <th>x3756</th>\n",
       "      <th>x3762</th>\n",
       "    </tr>\n",
       "  </thead>\n",
       "  <tbody>\n",
       "    <tr>\n",
       "      <th>0</th>\n",
       "      <td>1</td>\n",
       "      <td>30598.896539</td>\n",
       "      <td>1</td>\n",
       "      <td>1</td>\n",
       "      <td>75</td>\n",
       "      <td>0</td>\n",
       "      <td>2</td>\n",
       "      <td>0</td>\n",
       "      <td>1</td>\n",
       "      <td>12</td>\n",
       "      <td>...</td>\n",
       "      <td>0</td>\n",
       "      <td>0</td>\n",
       "      <td>0</td>\n",
       "      <td>0</td>\n",
       "      <td>0</td>\n",
       "      <td>0</td>\n",
       "      <td>0</td>\n",
       "      <td>0</td>\n",
       "      <td>0</td>\n",
       "      <td>0</td>\n",
       "    </tr>\n",
       "    <tr>\n",
       "      <th>1</th>\n",
       "      <td>1</td>\n",
       "      <td>23561.874562</td>\n",
       "      <td>1</td>\n",
       "      <td>1</td>\n",
       "      <td>75</td>\n",
       "      <td>0</td>\n",
       "      <td>2</td>\n",
       "      <td>0</td>\n",
       "      <td>1</td>\n",
       "      <td>12</td>\n",
       "      <td>...</td>\n",
       "      <td>0</td>\n",
       "      <td>0</td>\n",
       "      <td>0</td>\n",
       "      <td>0</td>\n",
       "      <td>0</td>\n",
       "      <td>0</td>\n",
       "      <td>0</td>\n",
       "      <td>0</td>\n",
       "      <td>0</td>\n",
       "      <td>0</td>\n",
       "    </tr>\n",
       "    <tr>\n",
       "      <th>2</th>\n",
       "      <td>1</td>\n",
       "      <td>25726.122276</td>\n",
       "      <td>1</td>\n",
       "      <td>1</td>\n",
       "      <td>75</td>\n",
       "      <td>0</td>\n",
       "      <td>2</td>\n",
       "      <td>0</td>\n",
       "      <td>1</td>\n",
       "      <td>12</td>\n",
       "      <td>...</td>\n",
       "      <td>0</td>\n",
       "      <td>0</td>\n",
       "      <td>0</td>\n",
       "      <td>0</td>\n",
       "      <td>0</td>\n",
       "      <td>0</td>\n",
       "      <td>0</td>\n",
       "      <td>0</td>\n",
       "      <td>0</td>\n",
       "      <td>0</td>\n",
       "    </tr>\n",
       "    <tr>\n",
       "      <th>3</th>\n",
       "      <td>1</td>\n",
       "      <td>26488.317060</td>\n",
       "      <td>1</td>\n",
       "      <td>1</td>\n",
       "      <td>75</td>\n",
       "      <td>0</td>\n",
       "      <td>2</td>\n",
       "      <td>0</td>\n",
       "      <td>1</td>\n",
       "      <td>12</td>\n",
       "      <td>...</td>\n",
       "      <td>0</td>\n",
       "      <td>0</td>\n",
       "      <td>0</td>\n",
       "      <td>0</td>\n",
       "      <td>0</td>\n",
       "      <td>0</td>\n",
       "      <td>0</td>\n",
       "      <td>0</td>\n",
       "      <td>0</td>\n",
       "      <td>0</td>\n",
       "    </tr>\n",
       "    <tr>\n",
       "      <th>4</th>\n",
       "      <td>1</td>\n",
       "      <td>23809.061856</td>\n",
       "      <td>1</td>\n",
       "      <td>1</td>\n",
       "      <td>75</td>\n",
       "      <td>0</td>\n",
       "      <td>2</td>\n",
       "      <td>0</td>\n",
       "      <td>1</td>\n",
       "      <td>12</td>\n",
       "      <td>...</td>\n",
       "      <td>0</td>\n",
       "      <td>0</td>\n",
       "      <td>0</td>\n",
       "      <td>0</td>\n",
       "      <td>0</td>\n",
       "      <td>0</td>\n",
       "      <td>0</td>\n",
       "      <td>0</td>\n",
       "      <td>0</td>\n",
       "      <td>0</td>\n",
       "    </tr>\n",
       "  </tbody>\n",
       "</table>\n",
       "<p>5 rows × 68 columns</p>\n",
       "</div>"
      ],
      "text/plain": [
       "   household_id     weighting  persons_in_PEU  spouse_part_of_PEU  ref_age  \\\n",
       "0             1  30598.896539               1                   1       75   \n",
       "1             1  23561.874562               1                   1       75   \n",
       "2             1  25726.122276               1                   1       75   \n",
       "3             1  26488.317060               1                   1       75   \n",
       "4             1  23809.061856               1                   1       75   \n",
       "\n",
       "   spouse_age  ref_sex  spouse_sex  ref_race  ref_educ  ...  x3748  x3754  \\\n",
       "0           0        2           0         1        12  ...      0      0   \n",
       "1           0        2           0         1        12  ...      0      0   \n",
       "2           0        2           0         1        12  ...      0      0   \n",
       "3           0        2           0         1        12  ...      0      0   \n",
       "4           0        2           0         1        12  ...      0      0   \n",
       "\n",
       "   x3760  x3765  x3732  x3738  x3744  x3750  x3756  x3762  \n",
       "0      0      0      0      0      0      0      0      0  \n",
       "1      0      0      0      0      0      0      0      0  \n",
       "2      0      0      0      0      0      0      0      0  \n",
       "3      0      0      0      0      0      0      0      0  \n",
       "4      0      0      0      0      0      0      0      0  \n",
       "\n",
       "[5 rows x 68 columns]"
      ]
     },
     "execution_count": 20,
     "metadata": {},
     "output_type": "execute_result"
    }
   ],
   "source": [
    "og_df = pd.read_stata('../data/extracted/scf2019s/p19i6.dta', columns=dl.sel_vars)\n",
    "og_df.columns = [x.lower() for x in og_df.columns]\n",
    "og_df.rename(columns=dl.rename_dict, inplace=True)\n",
    "og_df.head()"
   ]
  },
  {
   "cell_type": "code",
   "execution_count": 21,
   "metadata": {},
   "outputs": [
    {
     "data": {
      "text/plain": [
       "95   -7\n",
       "96   -7\n",
       "97   -7\n",
       "98   -7\n",
       "99   -7\n",
       "Name: ref_race, dtype: int8"
      ]
     },
     "execution_count": 21,
     "metadata": {},
     "output_type": "execute_result"
    }
   ],
   "source": [
    "og_df[og_df.household_id == 20][var]"
   ]
  },
  {
   "cell_type": "markdown",
   "metadata": {},
   "source": [
    "-7 means other, so all of these households can go to 0. \n"
   ]
  },
  {
   "cell_type": "code",
   "execution_count": 22,
   "metadata": {},
   "outputs": [
    {
     "data": {
      "text/plain": [
       "Int64Index([], dtype='int64', name='household_id')"
      ]
     },
     "execution_count": 22,
     "metadata": {},
     "output_type": "execute_result"
    }
   ],
   "source": [
    "df[df[var] == -0.6].index"
   ]
  },
  {
   "cell_type": "code",
   "execution_count": 23,
   "metadata": {},
   "outputs": [
    {
     "data": {
      "text/plain": [
       "1120    1\n",
       "1121   -7\n",
       "1122    1\n",
       "1123    1\n",
       "1124    1\n",
       "Name: ref_race, dtype: int8"
      ]
     },
     "execution_count": 23,
     "metadata": {},
     "output_type": "execute_result"
    }
   ],
   "source": [
    "og_df[og_df.household_id == 226][var]"
   ]
  },
  {
   "cell_type": "code",
   "execution_count": 24,
   "metadata": {},
   "outputs": [
    {
     "data": {
      "text/plain": [
       "1155    1\n",
       "1156    1\n",
       "1157    1\n",
       "1158    1\n",
       "1159   -7\n",
       "Name: ref_race, dtype: int8"
      ]
     },
     "execution_count": 24,
     "metadata": {},
     "output_type": "execute_result"
    }
   ],
   "source": [
    "og_df[og_df.household_id == 233][var]"
   ]
  },
  {
   "cell_type": "markdown",
   "metadata": {},
   "source": [
    "For some reason the imputed dataset also seems to impute race to other in some cases. Anything that is not -7 for race may have to go to 1."
   ]
  },
  {
   "cell_type": "code",
   "execution_count": 25,
   "metadata": {},
   "outputs": [
    {
     "data": {
      "text/plain": [
       "Int64Index([], dtype='int64', name='household_id')"
      ]
     },
     "execution_count": 25,
     "metadata": {},
     "output_type": "execute_result"
    }
   ],
   "source": [
    "df[df[var] == -1.8].index"
   ]
  },
  {
   "cell_type": "code",
   "execution_count": 26,
   "metadata": {},
   "outputs": [
    {
     "data": {
      "text/plain": [
       "225   -7\n",
       "226    2\n",
       "227    1\n",
       "228   -7\n",
       "229    2\n",
       "Name: ref_race, dtype: int8"
      ]
     },
     "execution_count": 26,
     "metadata": {},
     "output_type": "execute_result"
    }
   ],
   "source": [
    "og_df[og_df.household_id == 46][var]"
   ]
  },
  {
   "cell_type": "markdown",
   "metadata": {},
   "source": [
    "I think given the mixture of races in the imputed data for each HH and their relatively low number, all of these will go to 0."
   ]
  },
  {
   "cell_type": "markdown",
   "metadata": {},
   "source": [
    "### `ref_educ`"
   ]
  },
  {
   "cell_type": "code",
   "execution_count": 27,
   "metadata": {},
   "outputs": [
    {
     "data": {
      "text/plain": [
       "-1.0    9\n",
       "Name: ref_educ, dtype: int64"
      ]
     },
     "execution_count": 27,
     "metadata": {},
     "output_type": "execute_result"
    }
   ],
   "source": [
    "var = 'ref_educ'\n",
    "negs_dict['value_counts'][var]"
   ]
  },
  {
   "cell_type": "markdown",
   "metadata": {},
   "source": [
    "-1 means less than first grade so these will go to 0."
   ]
  },
  {
   "cell_type": "markdown",
   "metadata": {},
   "source": [
    "### `spouse_educ`"
   ]
  },
  {
   "cell_type": "code",
   "execution_count": 28,
   "metadata": {},
   "outputs": [
    {
     "data": {
      "text/plain": [
       "-1.0    6\n",
       "Name: spouse_educ, dtype: int64"
      ]
     },
     "execution_count": 28,
     "metadata": {},
     "output_type": "execute_result"
    }
   ],
   "source": [
    "var = 'spouse_educ'\n",
    "negs_dict['value_counts'][var]"
   ]
  },
  {
   "cell_type": "markdown",
   "metadata": {},
   "source": [
    "Same as `ref_educ`"
   ]
  },
  {
   "cell_type": "markdown",
   "metadata": {},
   "source": [
    "### `total_income`"
   ]
  },
  {
   "cell_type": "code",
   "execution_count": 29,
   "metadata": {},
   "outputs": [
    {
     "data": {
      "text/plain": [
       "-9.0    36\n",
       "-1.0     9\n",
       "Name: total_income, dtype: int64"
      ]
     },
     "execution_count": 29,
     "metadata": {},
     "output_type": "execute_result"
    }
   ],
   "source": [
    "var = 'total_income'\n",
    "negs_dict['value_counts'][var]"
   ]
  },
  {
   "cell_type": "markdown",
   "metadata": {},
   "source": [
    "-1 is nothing and -9 is negative income generally, so all of these will go to 0. "
   ]
  },
  {
   "cell_type": "markdown",
   "metadata": {},
   "source": [
    "### `life_ins_cash_value`"
   ]
  },
  {
   "cell_type": "code",
   "execution_count": 30,
   "metadata": {},
   "outputs": [
    {
     "data": {
      "text/plain": [
       "-1.0    42\n",
       "Name: life_ins_cash_value, dtype: int64"
      ]
     },
     "execution_count": 30,
     "metadata": {},
     "output_type": "execute_result"
    }
   ],
   "source": [
    "var = 'life_ins_cash_value'\n",
    "negs_dict['value_counts'][var]"
   ]
  },
  {
   "cell_type": "markdown",
   "metadata": {},
   "source": [
    "-1 is also nothing, so goes to 0. This is getting tedious. I've adjusted the dict. to show all value_counts and it looks like going to 0 for all of tehse is fine."
   ]
  },
  {
   "cell_type": "code",
   "execution_count": 31,
   "metadata": {},
   "outputs": [
    {
     "data": {
      "text/plain": [
       "{'ref_race': -7.0    335\n",
       " Name: ref_race, dtype: int64, 'ref_educ': -1.0    9\n",
       " Name: ref_educ, dtype: int64, 'spouse_educ': -1.0    6\n",
       " Name: spouse_educ, dtype: int64, 'total_income': -9.0    36\n",
       " -1.0     9\n",
       " Name: total_income, dtype: int64, 'life_ins_cash_value': -1.0    42\n",
       " Name: life_ins_cash_value, dtype: int64, 'total_cc_limit': -1.0    12\n",
       " Name: total_cc_limit, dtype: int64, 'num_fin_inst': -1.0    137\n",
       " Name: num_fin_inst, dtype: int64, 'cc_newcharges_value': -1.0    290\n",
       " -2.0    169\n",
       " -3.0      8\n",
       " Name: cc_newcharges_value, dtype: int64, 'cc_currbal_value': -2.0    1222\n",
       " -1.0    1071\n",
       " -3.0     261\n",
       " Name: cc_currbal_value, dtype: int64, 'checking_accts_value': -1.0    53\n",
       " -2.0     5\n",
       " Name: checking_accts_value, dtype: int64, 'savings_accts_value': -1.0    8\n",
       " -2.0    3\n",
       " -5.0    1\n",
       " Name: savings_accts_value, dtype: int64, 'lqd_assets': -1.0    36\n",
       " -2.0     6\n",
       " Name: lqd_assets, dtype: int64}"
      ]
     },
     "execution_count": 31,
     "metadata": {},
     "output_type": "execute_result"
    }
   ],
   "source": [
    "negs_dict['value_counts']"
   ]
  },
  {
   "cell_type": "markdown",
   "metadata": {},
   "source": [
    "## Cleaning"
   ]
  },
  {
   "cell_type": "code",
   "execution_count": 32,
   "metadata": {},
   "outputs": [],
   "source": [
    "df = pd.read_stata(targetdir + 'scf2019s/p19i6.dta', columns=dl.sel_vars)\n",
    "df.columns = [x.lower() for x in df.columns]\n",
    "df.rename(columns=dl.rename_dict, inplace=True)\n",
    "df = dl.clean_SCF_df(df, neg_vals=False, modeling=True)"
   ]
  },
  {
   "cell_type": "code",
   "execution_count": 33,
   "metadata": {},
   "outputs": [
    {
     "data": {
      "text/html": [
       "<div>\n",
       "<style scoped>\n",
       "    .dataframe tbody tr th:only-of-type {\n",
       "        vertical-align: middle;\n",
       "    }\n",
       "\n",
       "    .dataframe tbody tr th {\n",
       "        vertical-align: top;\n",
       "    }\n",
       "\n",
       "    .dataframe thead th {\n",
       "        text-align: right;\n",
       "    }\n",
       "</style>\n",
       "<table border=\"1\" class=\"dataframe\">\n",
       "  <thead>\n",
       "    <tr style=\"text-align: right;\">\n",
       "      <th></th>\n",
       "      <th>persons_in_PEU</th>\n",
       "      <th>ref_age</th>\n",
       "      <th>spouse_age</th>\n",
       "      <th>total_income</th>\n",
       "      <th>total_cc_limit</th>\n",
       "      <th>freq_cc_payment</th>\n",
       "      <th>rev_charge_accts</th>\n",
       "      <th>num_fin_inst</th>\n",
       "      <th>LOC_owed_now</th>\n",
       "      <th>ed_loans_owed_now</th>\n",
       "      <th>...</th>\n",
       "      <th>spouse_occ_code_2.0</th>\n",
       "      <th>spouse_occ_code_3.0</th>\n",
       "      <th>spouse_occ_code_4.0</th>\n",
       "      <th>spouse_occ_code_5.0</th>\n",
       "      <th>spouse_occ_code_6.0</th>\n",
       "      <th>primary_home_type_3.0</th>\n",
       "      <th>primary_home_type_4.0</th>\n",
       "      <th>primary_home_type_5.0</th>\n",
       "      <th>income_comparison_2.0</th>\n",
       "      <th>income_comparison_3.0</th>\n",
       "    </tr>\n",
       "    <tr>\n",
       "      <th>household_id</th>\n",
       "      <th></th>\n",
       "      <th></th>\n",
       "      <th></th>\n",
       "      <th></th>\n",
       "      <th></th>\n",
       "      <th></th>\n",
       "      <th></th>\n",
       "      <th></th>\n",
       "      <th></th>\n",
       "      <th></th>\n",
       "      <th></th>\n",
       "      <th></th>\n",
       "      <th></th>\n",
       "      <th></th>\n",
       "      <th></th>\n",
       "      <th></th>\n",
       "      <th></th>\n",
       "      <th></th>\n",
       "      <th></th>\n",
       "      <th></th>\n",
       "      <th></th>\n",
       "    </tr>\n",
       "  </thead>\n",
       "  <tbody>\n",
       "    <tr>\n",
       "      <th>1</th>\n",
       "      <td>1.0</td>\n",
       "      <td>75.0</td>\n",
       "      <td>0.0</td>\n",
       "      <td>52800.0</td>\n",
       "      <td>15000.0</td>\n",
       "      <td>1.0</td>\n",
       "      <td>0.0</td>\n",
       "      <td>4.0</td>\n",
       "      <td>0.0</td>\n",
       "      <td>0.0</td>\n",
       "      <td>...</td>\n",
       "      <td>0</td>\n",
       "      <td>0</td>\n",
       "      <td>0</td>\n",
       "      <td>0</td>\n",
       "      <td>0</td>\n",
       "      <td>1</td>\n",
       "      <td>0</td>\n",
       "      <td>0</td>\n",
       "      <td>0</td>\n",
       "      <td>1</td>\n",
       "    </tr>\n",
       "    <tr>\n",
       "      <th>2</th>\n",
       "      <td>5.0</td>\n",
       "      <td>50.0</td>\n",
       "      <td>39.0</td>\n",
       "      <td>37800.0</td>\n",
       "      <td>0.0</td>\n",
       "      <td>0.0</td>\n",
       "      <td>0.0</td>\n",
       "      <td>2.0</td>\n",
       "      <td>0.0</td>\n",
       "      <td>0.0</td>\n",
       "      <td>...</td>\n",
       "      <td>0</td>\n",
       "      <td>0</td>\n",
       "      <td>0</td>\n",
       "      <td>0</td>\n",
       "      <td>0</td>\n",
       "      <td>1</td>\n",
       "      <td>0</td>\n",
       "      <td>0</td>\n",
       "      <td>0</td>\n",
       "      <td>1</td>\n",
       "    </tr>\n",
       "    <tr>\n",
       "      <th>3</th>\n",
       "      <td>2.0</td>\n",
       "      <td>53.0</td>\n",
       "      <td>49.0</td>\n",
       "      <td>103000.0</td>\n",
       "      <td>1000.0</td>\n",
       "      <td>3.0</td>\n",
       "      <td>0.0</td>\n",
       "      <td>2.0</td>\n",
       "      <td>0.0</td>\n",
       "      <td>0.0</td>\n",
       "      <td>...</td>\n",
       "      <td>1</td>\n",
       "      <td>0</td>\n",
       "      <td>0</td>\n",
       "      <td>0</td>\n",
       "      <td>0</td>\n",
       "      <td>1</td>\n",
       "      <td>0</td>\n",
       "      <td>0</td>\n",
       "      <td>0</td>\n",
       "      <td>0</td>\n",
       "    </tr>\n",
       "    <tr>\n",
       "      <th>4</th>\n",
       "      <td>2.0</td>\n",
       "      <td>29.0</td>\n",
       "      <td>28.0</td>\n",
       "      <td>122000.0</td>\n",
       "      <td>55000.0</td>\n",
       "      <td>1.0</td>\n",
       "      <td>0.0</td>\n",
       "      <td>10.0</td>\n",
       "      <td>0.0</td>\n",
       "      <td>177000.0</td>\n",
       "      <td>...</td>\n",
       "      <td>0</td>\n",
       "      <td>0</td>\n",
       "      <td>0</td>\n",
       "      <td>0</td>\n",
       "      <td>0</td>\n",
       "      <td>1</td>\n",
       "      <td>0</td>\n",
       "      <td>0</td>\n",
       "      <td>0</td>\n",
       "      <td>1</td>\n",
       "    </tr>\n",
       "    <tr>\n",
       "      <th>5</th>\n",
       "      <td>2.0</td>\n",
       "      <td>47.0</td>\n",
       "      <td>39.0</td>\n",
       "      <td>29200.0</td>\n",
       "      <td>0.0</td>\n",
       "      <td>0.0</td>\n",
       "      <td>0.0</td>\n",
       "      <td>3.0</td>\n",
       "      <td>0.0</td>\n",
       "      <td>0.0</td>\n",
       "      <td>...</td>\n",
       "      <td>0</td>\n",
       "      <td>0</td>\n",
       "      <td>0</td>\n",
       "      <td>0</td>\n",
       "      <td>0</td>\n",
       "      <td>1</td>\n",
       "      <td>0</td>\n",
       "      <td>0</td>\n",
       "      <td>1</td>\n",
       "      <td>0</td>\n",
       "    </tr>\n",
       "  </tbody>\n",
       "</table>\n",
       "<p>5 rows × 63 columns</p>\n",
       "</div>"
      ],
      "text/plain": [
       "              persons_in_PEU  ref_age  spouse_age  total_income  \\\n",
       "household_id                                                      \n",
       "1                        1.0     75.0         0.0       52800.0   \n",
       "2                        5.0     50.0        39.0       37800.0   \n",
       "3                        2.0     53.0        49.0      103000.0   \n",
       "4                        2.0     29.0        28.0      122000.0   \n",
       "5                        2.0     47.0        39.0       29200.0   \n",
       "\n",
       "              total_cc_limit  freq_cc_payment  rev_charge_accts  num_fin_inst  \\\n",
       "household_id                                                                    \n",
       "1                    15000.0              1.0               0.0           4.0   \n",
       "2                        0.0              0.0               0.0           2.0   \n",
       "3                     1000.0              3.0               0.0           2.0   \n",
       "4                    55000.0              1.0               0.0          10.0   \n",
       "5                        0.0              0.0               0.0           3.0   \n",
       "\n",
       "              LOC_owed_now  ed_loans_owed_now  ...  spouse_occ_code_2.0  \\\n",
       "household_id                                   ...                        \n",
       "1                      0.0                0.0  ...                    0   \n",
       "2                      0.0                0.0  ...                    0   \n",
       "3                      0.0                0.0  ...                    1   \n",
       "4                      0.0           177000.0  ...                    0   \n",
       "5                      0.0                0.0  ...                    0   \n",
       "\n",
       "              spouse_occ_code_3.0  spouse_occ_code_4.0  spouse_occ_code_5.0  \\\n",
       "household_id                                                                  \n",
       "1                               0                    0                    0   \n",
       "2                               0                    0                    0   \n",
       "3                               0                    0                    0   \n",
       "4                               0                    0                    0   \n",
       "5                               0                    0                    0   \n",
       "\n",
       "              spouse_occ_code_6.0  primary_home_type_3.0  \\\n",
       "household_id                                               \n",
       "1                               0                      1   \n",
       "2                               0                      1   \n",
       "3                               0                      1   \n",
       "4                               0                      1   \n",
       "5                               0                      1   \n",
       "\n",
       "              primary_home_type_4.0  primary_home_type_5.0  \\\n",
       "household_id                                                 \n",
       "1                                 0                      0   \n",
       "2                                 0                      0   \n",
       "3                                 0                      0   \n",
       "4                                 0                      0   \n",
       "5                                 0                      0   \n",
       "\n",
       "              income_comparison_2.0  income_comparison_3.0  \n",
       "household_id                                                \n",
       "1                                 0                      1  \n",
       "2                                 0                      1  \n",
       "3                                 0                      0  \n",
       "4                                 0                      1  \n",
       "5                                 1                      0  \n",
       "\n",
       "[5 rows x 63 columns]"
      ]
     },
     "execution_count": 33,
     "metadata": {},
     "output_type": "execute_result"
    }
   ],
   "source": [
    "df.head()"
   ]
  },
  {
   "cell_type": "code",
   "execution_count": 34,
   "metadata": {},
   "outputs": [
    {
     "data": {
      "text/plain": [
       "Index(['persons_in_PEU', 'ref_age', 'spouse_age', 'total_income',\n",
       "       'total_cc_limit', 'freq_cc_payment', 'rev_charge_accts', 'num_fin_inst',\n",
       "       'LOC_owed_now', 'ed_loans_owed_now', 'cc_newcharges_value',\n",
       "       'cc_currbal_value', 'doctorate_deg', 'master_deg', 'bachelor_deg',\n",
       "       'assoc_deg', 'hs_deg', 'doctorate_deg_s', 'master_deg_s',\n",
       "       'bachelor_deg_s', 'assoc_deg_s', 'hs_deg_s', '1k_target',\n",
       "       'spouse_part_of_PEU_2.0', 'ref_sex_2.0', 'spouse_sex_1.0',\n",
       "       'spouse_sex_2.0', 'ref_race_1.0', 'ref_race_2.0', 'ref_race_3.0',\n",
       "       'ref_UE_last_year_5.0', 'spouse_UE_last_year_5.0',\n",
       "       'ref_industry_code_1.0', 'ref_industry_code_2.0',\n",
       "       'ref_industry_code_3.0', 'ref_industry_code_4.0',\n",
       "       'ref_industry_code_5.0', 'ref_industry_code_6.0',\n",
       "       'ref_industry_code_7.0', 'spouse_industry_code_1.0',\n",
       "       'spouse_industry_code_2.0', 'spouse_industry_code_3.0',\n",
       "       'spouse_industry_code_4.0', 'spouse_industry_code_5.0',\n",
       "       'spouse_industry_code_6.0', 'spouse_industry_code_7.0',\n",
       "       'ref_occ_code_1.0', 'ref_occ_code_2.0', 'ref_occ_code_3.0',\n",
       "       'ref_occ_code_4.0', 'ref_occ_code_5.0', 'ref_occ_code_6.0',\n",
       "       'spouse_occ_code_1.0', 'spouse_occ_code_2.0', 'spouse_occ_code_3.0',\n",
       "       'spouse_occ_code_4.0', 'spouse_occ_code_5.0', 'spouse_occ_code_6.0',\n",
       "       'primary_home_type_3.0', 'primary_home_type_4.0',\n",
       "       'primary_home_type_5.0', 'income_comparison_2.0',\n",
       "       'income_comparison_3.0'],\n",
       "      dtype='object')"
      ]
     },
     "execution_count": 34,
     "metadata": {},
     "output_type": "execute_result"
    }
   ],
   "source": [
    "df.columns[0:81]"
   ]
  },
  {
   "cell_type": "code",
   "execution_count": 35,
   "metadata": {},
   "outputs": [],
   "source": [
    "# "
   ]
  }
 ],
 "metadata": {
  "kernelspec": {
   "display_name": "learn-env",
   "language": "python",
   "name": "learn-env"
  },
  "language_info": {
   "codemirror_mode": {
    "name": "ipython",
    "version": 3
   },
   "file_extension": ".py",
   "mimetype": "text/x-python",
   "name": "python",
   "nbconvert_exporter": "python",
   "pygments_lexer": "ipython3",
   "version": "3.6.10"
  }
 },
 "nbformat": 4,
 "nbformat_minor": 4
}
