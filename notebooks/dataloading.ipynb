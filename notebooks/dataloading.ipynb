{
 "cells": [
  {
   "cell_type": "markdown",
   "metadata": {},
   "source": [
    "## Loading Data\n"
   ]
  },
  {
   "cell_type": "code",
   "execution_count": 1,
   "metadata": {},
   "outputs": [],
   "source": [
    "%load_ext autoreload\n",
    "%autoreload 2\n",
    "import os\n",
    "import sys\n",
    "import pandas as pd\n",
    "\n",
    "module_path = os.path.abspath(os.path.join(os.pardir, 'src'))\n",
    "if module_path not in sys.path:\n",
    "    sys.path.append(module_path)\n",
    "    \n",
    "from modules import dataloading as dl\n",
    "\n",
    "from datetime import datetime\n",
    "\n",
    "targetdir = \"../data/extracted/\""
   ]
  },
  {
   "cell_type": "code",
   "execution_count": 2,
   "metadata": {},
   "outputs": [
    {
     "data": {
      "text/plain": [
       "datetime.datetime(2020, 12, 15, 18, 52, 23, 553197)"
      ]
     },
     "execution_count": 2,
     "metadata": {},
     "output_type": "execute_result"
    }
   ],
   "source": [
    "datetime.utcnow()"
   ]
  },
  {
   "cell_type": "code",
   "execution_count": 3,
   "metadata": {},
   "outputs": [
    {
     "data": {
      "text/html": [
       "<div>\n",
       "<style scoped>\n",
       "    .dataframe tbody tr th:only-of-type {\n",
       "        vertical-align: middle;\n",
       "    }\n",
       "\n",
       "    .dataframe tbody tr th {\n",
       "        vertical-align: top;\n",
       "    }\n",
       "\n",
       "    .dataframe thead th {\n",
       "        text-align: right;\n",
       "    }\n",
       "</style>\n",
       "<table border=\"1\" class=\"dataframe\">\n",
       "  <thead>\n",
       "    <tr style=\"text-align: right;\">\n",
       "      <th></th>\n",
       "      <th>household_id</th>\n",
       "      <th>imputed_hh_id</th>\n",
       "      <th>weighting</th>\n",
       "      <th>persons_in_PEU</th>\n",
       "      <th>spouse_part_of_PEU</th>\n",
       "      <th>ref_next_relative_type</th>\n",
       "      <th>switch_of_resp_ref</th>\n",
       "      <th>ref_age</th>\n",
       "      <th>spouse_age</th>\n",
       "      <th>ref_sex</th>\n",
       "      <th>...</th>\n",
       "      <th>x3748</th>\n",
       "      <th>x3754</th>\n",
       "      <th>x3760</th>\n",
       "      <th>x3765</th>\n",
       "      <th>x3732</th>\n",
       "      <th>x3738</th>\n",
       "      <th>x3744</th>\n",
       "      <th>x3750</th>\n",
       "      <th>x3756</th>\n",
       "      <th>x3762</th>\n",
       "    </tr>\n",
       "  </thead>\n",
       "  <tbody>\n",
       "    <tr>\n",
       "      <th>0</th>\n",
       "      <td>1</td>\n",
       "      <td>11</td>\n",
       "      <td>30598.896539</td>\n",
       "      <td>1</td>\n",
       "      <td>1</td>\n",
       "      <td>0</td>\n",
       "      <td>5</td>\n",
       "      <td>75</td>\n",
       "      <td>0</td>\n",
       "      <td>2</td>\n",
       "      <td>...</td>\n",
       "      <td>0</td>\n",
       "      <td>0</td>\n",
       "      <td>0</td>\n",
       "      <td>0</td>\n",
       "      <td>0</td>\n",
       "      <td>0</td>\n",
       "      <td>0</td>\n",
       "      <td>0</td>\n",
       "      <td>0</td>\n",
       "      <td>0</td>\n",
       "    </tr>\n",
       "    <tr>\n",
       "      <th>1</th>\n",
       "      <td>1</td>\n",
       "      <td>12</td>\n",
       "      <td>23561.874562</td>\n",
       "      <td>1</td>\n",
       "      <td>1</td>\n",
       "      <td>0</td>\n",
       "      <td>5</td>\n",
       "      <td>75</td>\n",
       "      <td>0</td>\n",
       "      <td>2</td>\n",
       "      <td>...</td>\n",
       "      <td>0</td>\n",
       "      <td>0</td>\n",
       "      <td>0</td>\n",
       "      <td>0</td>\n",
       "      <td>0</td>\n",
       "      <td>0</td>\n",
       "      <td>0</td>\n",
       "      <td>0</td>\n",
       "      <td>0</td>\n",
       "      <td>0</td>\n",
       "    </tr>\n",
       "    <tr>\n",
       "      <th>2</th>\n",
       "      <td>1</td>\n",
       "      <td>13</td>\n",
       "      <td>25726.122276</td>\n",
       "      <td>1</td>\n",
       "      <td>1</td>\n",
       "      <td>0</td>\n",
       "      <td>5</td>\n",
       "      <td>75</td>\n",
       "      <td>0</td>\n",
       "      <td>2</td>\n",
       "      <td>...</td>\n",
       "      <td>0</td>\n",
       "      <td>0</td>\n",
       "      <td>0</td>\n",
       "      <td>0</td>\n",
       "      <td>0</td>\n",
       "      <td>0</td>\n",
       "      <td>0</td>\n",
       "      <td>0</td>\n",
       "      <td>0</td>\n",
       "      <td>0</td>\n",
       "    </tr>\n",
       "    <tr>\n",
       "      <th>3</th>\n",
       "      <td>1</td>\n",
       "      <td>14</td>\n",
       "      <td>26488.317060</td>\n",
       "      <td>1</td>\n",
       "      <td>1</td>\n",
       "      <td>0</td>\n",
       "      <td>5</td>\n",
       "      <td>75</td>\n",
       "      <td>0</td>\n",
       "      <td>2</td>\n",
       "      <td>...</td>\n",
       "      <td>0</td>\n",
       "      <td>0</td>\n",
       "      <td>0</td>\n",
       "      <td>0</td>\n",
       "      <td>0</td>\n",
       "      <td>0</td>\n",
       "      <td>0</td>\n",
       "      <td>0</td>\n",
       "      <td>0</td>\n",
       "      <td>0</td>\n",
       "    </tr>\n",
       "    <tr>\n",
       "      <th>4</th>\n",
       "      <td>1</td>\n",
       "      <td>15</td>\n",
       "      <td>23809.061856</td>\n",
       "      <td>1</td>\n",
       "      <td>1</td>\n",
       "      <td>0</td>\n",
       "      <td>5</td>\n",
       "      <td>75</td>\n",
       "      <td>0</td>\n",
       "      <td>2</td>\n",
       "      <td>...</td>\n",
       "      <td>0</td>\n",
       "      <td>0</td>\n",
       "      <td>0</td>\n",
       "      <td>0</td>\n",
       "      <td>0</td>\n",
       "      <td>0</td>\n",
       "      <td>0</td>\n",
       "      <td>0</td>\n",
       "      <td>0</td>\n",
       "      <td>0</td>\n",
       "    </tr>\n",
       "  </tbody>\n",
       "</table>\n",
       "<p>5 rows × 71 columns</p>\n",
       "</div>"
      ],
      "text/plain": [
       "   household_id  imputed_hh_id     weighting  persons_in_PEU  \\\n",
       "0             1             11  30598.896539               1   \n",
       "1             1             12  23561.874562               1   \n",
       "2             1             13  25726.122276               1   \n",
       "3             1             14  26488.317060               1   \n",
       "4             1             15  23809.061856               1   \n",
       "\n",
       "   spouse_part_of_PEU  ref_next_relative_type  switch_of_resp_ref  ref_age  \\\n",
       "0                   1                       0                   5       75   \n",
       "1                   1                       0                   5       75   \n",
       "2                   1                       0                   5       75   \n",
       "3                   1                       0                   5       75   \n",
       "4                   1                       0                   5       75   \n",
       "\n",
       "   spouse_age  ref_sex  ...  x3748  x3754  x3760  x3765  x3732  x3738  x3744  \\\n",
       "0           0        2  ...      0      0      0      0      0      0      0   \n",
       "1           0        2  ...      0      0      0      0      0      0      0   \n",
       "2           0        2  ...      0      0      0      0      0      0      0   \n",
       "3           0        2  ...      0      0      0      0      0      0      0   \n",
       "4           0        2  ...      0      0      0      0      0      0      0   \n",
       "\n",
       "   x3750  x3756  x3762  \n",
       "0      0      0      0  \n",
       "1      0      0      0  \n",
       "2      0      0      0  \n",
       "3      0      0      0  \n",
       "4      0      0      0  \n",
       "\n",
       "[5 rows x 71 columns]"
      ]
     },
     "execution_count": 3,
     "metadata": {},
     "output_type": "execute_result"
    }
   ],
   "source": [
    "# df = dl.SCF_load_data(targetdir, 2019, dl.sel_vars)\n",
    "df = pd.read_stata('../data/extracted/scf2019s/p19i6.dta', columns=dl.sel_vars)\n",
    "df.columns = [x.lower() for x in df.columns]\n",
    "df.rename(columns=dl.rename_dict, inplace=True)\n",
    "df.head()"
   ]
  },
  {
   "cell_type": "code",
   "execution_count": 4,
   "metadata": {},
   "outputs": [
    {
     "data": {
      "text/plain": [
       "13310   NaN\n",
       "13311   NaN\n",
       "13312   NaN\n",
       "13313   NaN\n",
       "13314   NaN\n",
       "Name: bonds_mkt_value, dtype: float64"
      ]
     },
     "execution_count": 4,
     "metadata": {},
     "output_type": "execute_result"
    }
   ],
   "source": [
    "df[df.household_id==2679].bonds_mkt_value"
   ]
  },
  {
   "cell_type": "code",
   "execution_count": 8,
   "metadata": {},
   "outputs": [],
   "source": [
    "df = dl.clean_SCF_df(df)"
   ]
  },
  {
   "cell_type": "markdown",
   "metadata": {},
   "source": [
    "## Checking and cleaning cat vars"
   ]
  },
  {
   "cell_type": "code",
   "execution_count": 61,
   "metadata": {},
   "outputs": [
    {
     "data": {
      "text/plain": [
       "dict_keys(['dfs', 'value_counts'])"
      ]
     },
     "execution_count": 61,
     "metadata": {},
     "output_type": "execute_result"
    }
   ],
   "source": [
    "# Variables with negative values\n",
    "negs_dict = {'dfs': {}, 'value_counts': {}}\n",
    "for col in df:\n",
    "    if df[col].min() < 0:\n",
    "        negs_dict['dfs'][col] = df[df[col] < 0]\n",
    "        negs_dict['value_counts'][col] = df[df[col] < 0][col].value_counts()\n",
    "        \n",
    "negs_dict.keys()\n",
    "    "
   ]
  },
  {
   "cell_type": "markdown",
   "metadata": {},
   "source": [
    "These are all of the variables that seem to have negative values, which should not be the case. Investigating case-by-case below."
   ]
  },
  {
   "cell_type": "markdown",
   "metadata": {},
   "source": [
    "### `ref_race`"
   ]
  },
  {
   "cell_type": "code",
   "execution_count": 62,
   "metadata": {},
   "outputs": [
    {
     "data": {
      "text/plain": [
       "-7.0    324\n",
       "-0.6      7\n",
       "-2.2      1\n",
       "-0.4      1\n",
       "-1.8      1\n",
       "-2.0      1\n",
       "Name: ref_race, dtype: int64"
      ]
     },
     "execution_count": 62,
     "metadata": {},
     "output_type": "execute_result"
    }
   ],
   "source": [
    "var = 'ref_race'\n",
    "negs_dict['value_counts'][var]"
   ]
  },
  {
   "cell_type": "code",
   "execution_count": 63,
   "metadata": {},
   "outputs": [
    {
     "data": {
      "text/plain": [
       "Int64Index([  20,   25,   33,   59,   69,   78,   97,  151,  168,  171,\n",
       "            ...\n",
       "            5615, 5631, 5643, 5654, 5683, 5715, 5737, 5755, 5778, 5811],\n",
       "           dtype='int64', name='household_id', length=324)"
      ]
     },
     "execution_count": 63,
     "metadata": {},
     "output_type": "execute_result"
    }
   ],
   "source": [
    "df[df[var] == -7.0].index"
   ]
  },
  {
   "cell_type": "code",
   "execution_count": 64,
   "metadata": {},
   "outputs": [
    {
     "data": {
      "text/html": [
       "<div>\n",
       "<style scoped>\n",
       "    .dataframe tbody tr th:only-of-type {\n",
       "        vertical-align: middle;\n",
       "    }\n",
       "\n",
       "    .dataframe tbody tr th {\n",
       "        vertical-align: top;\n",
       "    }\n",
       "\n",
       "    .dataframe thead th {\n",
       "        text-align: right;\n",
       "    }\n",
       "</style>\n",
       "<table border=\"1\" class=\"dataframe\">\n",
       "  <thead>\n",
       "    <tr style=\"text-align: right;\">\n",
       "      <th></th>\n",
       "      <th>household_id</th>\n",
       "      <th>imputed_hh_id</th>\n",
       "      <th>weighting</th>\n",
       "      <th>persons_in_PEU</th>\n",
       "      <th>spouse_part_of_PEU</th>\n",
       "      <th>ref_next_relative_type</th>\n",
       "      <th>switch_of_resp_ref</th>\n",
       "      <th>ref_age</th>\n",
       "      <th>spouse_age</th>\n",
       "      <th>ref_sex</th>\n",
       "      <th>...</th>\n",
       "      <th>x3748</th>\n",
       "      <th>x3754</th>\n",
       "      <th>x3760</th>\n",
       "      <th>x3765</th>\n",
       "      <th>x3732</th>\n",
       "      <th>x3738</th>\n",
       "      <th>x3744</th>\n",
       "      <th>x3750</th>\n",
       "      <th>x3756</th>\n",
       "      <th>x3762</th>\n",
       "    </tr>\n",
       "  </thead>\n",
       "  <tbody>\n",
       "    <tr>\n",
       "      <th>0</th>\n",
       "      <td>1</td>\n",
       "      <td>11</td>\n",
       "      <td>30598.896539</td>\n",
       "      <td>1</td>\n",
       "      <td>1</td>\n",
       "      <td>0</td>\n",
       "      <td>5</td>\n",
       "      <td>75</td>\n",
       "      <td>0</td>\n",
       "      <td>2</td>\n",
       "      <td>...</td>\n",
       "      <td>0</td>\n",
       "      <td>0</td>\n",
       "      <td>0</td>\n",
       "      <td>0</td>\n",
       "      <td>0</td>\n",
       "      <td>0</td>\n",
       "      <td>0</td>\n",
       "      <td>0</td>\n",
       "      <td>0</td>\n",
       "      <td>0</td>\n",
       "    </tr>\n",
       "    <tr>\n",
       "      <th>1</th>\n",
       "      <td>1</td>\n",
       "      <td>12</td>\n",
       "      <td>23561.874562</td>\n",
       "      <td>1</td>\n",
       "      <td>1</td>\n",
       "      <td>0</td>\n",
       "      <td>5</td>\n",
       "      <td>75</td>\n",
       "      <td>0</td>\n",
       "      <td>2</td>\n",
       "      <td>...</td>\n",
       "      <td>0</td>\n",
       "      <td>0</td>\n",
       "      <td>0</td>\n",
       "      <td>0</td>\n",
       "      <td>0</td>\n",
       "      <td>0</td>\n",
       "      <td>0</td>\n",
       "      <td>0</td>\n",
       "      <td>0</td>\n",
       "      <td>0</td>\n",
       "    </tr>\n",
       "    <tr>\n",
       "      <th>2</th>\n",
       "      <td>1</td>\n",
       "      <td>13</td>\n",
       "      <td>25726.122276</td>\n",
       "      <td>1</td>\n",
       "      <td>1</td>\n",
       "      <td>0</td>\n",
       "      <td>5</td>\n",
       "      <td>75</td>\n",
       "      <td>0</td>\n",
       "      <td>2</td>\n",
       "      <td>...</td>\n",
       "      <td>0</td>\n",
       "      <td>0</td>\n",
       "      <td>0</td>\n",
       "      <td>0</td>\n",
       "      <td>0</td>\n",
       "      <td>0</td>\n",
       "      <td>0</td>\n",
       "      <td>0</td>\n",
       "      <td>0</td>\n",
       "      <td>0</td>\n",
       "    </tr>\n",
       "    <tr>\n",
       "      <th>3</th>\n",
       "      <td>1</td>\n",
       "      <td>14</td>\n",
       "      <td>26488.317060</td>\n",
       "      <td>1</td>\n",
       "      <td>1</td>\n",
       "      <td>0</td>\n",
       "      <td>5</td>\n",
       "      <td>75</td>\n",
       "      <td>0</td>\n",
       "      <td>2</td>\n",
       "      <td>...</td>\n",
       "      <td>0</td>\n",
       "      <td>0</td>\n",
       "      <td>0</td>\n",
       "      <td>0</td>\n",
       "      <td>0</td>\n",
       "      <td>0</td>\n",
       "      <td>0</td>\n",
       "      <td>0</td>\n",
       "      <td>0</td>\n",
       "      <td>0</td>\n",
       "    </tr>\n",
       "    <tr>\n",
       "      <th>4</th>\n",
       "      <td>1</td>\n",
       "      <td>15</td>\n",
       "      <td>23809.061856</td>\n",
       "      <td>1</td>\n",
       "      <td>1</td>\n",
       "      <td>0</td>\n",
       "      <td>5</td>\n",
       "      <td>75</td>\n",
       "      <td>0</td>\n",
       "      <td>2</td>\n",
       "      <td>...</td>\n",
       "      <td>0</td>\n",
       "      <td>0</td>\n",
       "      <td>0</td>\n",
       "      <td>0</td>\n",
       "      <td>0</td>\n",
       "      <td>0</td>\n",
       "      <td>0</td>\n",
       "      <td>0</td>\n",
       "      <td>0</td>\n",
       "      <td>0</td>\n",
       "    </tr>\n",
       "  </tbody>\n",
       "</table>\n",
       "<p>5 rows × 71 columns</p>\n",
       "</div>"
      ],
      "text/plain": [
       "   household_id  imputed_hh_id     weighting  persons_in_PEU  \\\n",
       "0             1             11  30598.896539               1   \n",
       "1             1             12  23561.874562               1   \n",
       "2             1             13  25726.122276               1   \n",
       "3             1             14  26488.317060               1   \n",
       "4             1             15  23809.061856               1   \n",
       "\n",
       "   spouse_part_of_PEU  ref_next_relative_type  switch_of_resp_ref  ref_age  \\\n",
       "0                   1                       0                   5       75   \n",
       "1                   1                       0                   5       75   \n",
       "2                   1                       0                   5       75   \n",
       "3                   1                       0                   5       75   \n",
       "4                   1                       0                   5       75   \n",
       "\n",
       "   spouse_age  ref_sex  ...  x3748  x3754  x3760  x3765  x3732  x3738  x3744  \\\n",
       "0           0        2  ...      0      0      0      0      0      0      0   \n",
       "1           0        2  ...      0      0      0      0      0      0      0   \n",
       "2           0        2  ...      0      0      0      0      0      0      0   \n",
       "3           0        2  ...      0      0      0      0      0      0      0   \n",
       "4           0        2  ...      0      0      0      0      0      0      0   \n",
       "\n",
       "   x3750  x3756  x3762  \n",
       "0      0      0      0  \n",
       "1      0      0      0  \n",
       "2      0      0      0  \n",
       "3      0      0      0  \n",
       "4      0      0      0  \n",
       "\n",
       "[5 rows x 71 columns]"
      ]
     },
     "execution_count": 64,
     "metadata": {},
     "output_type": "execute_result"
    }
   ],
   "source": [
    "og_df = pd.read_stata('../data/extracted/scf2019s/p19i6.dta', columns=dl.sel_vars)\n",
    "og_df.columns = [x.lower() for x in og_df.columns]\n",
    "og_df.rename(columns=dl.rename_dict, inplace=True)\n",
    "og_df.head()"
   ]
  },
  {
   "cell_type": "code",
   "execution_count": 65,
   "metadata": {},
   "outputs": [
    {
     "data": {
      "text/plain": [
       "95   -7\n",
       "96   -7\n",
       "97   -7\n",
       "98   -7\n",
       "99   -7\n",
       "Name: ref_race, dtype: int8"
      ]
     },
     "execution_count": 65,
     "metadata": {},
     "output_type": "execute_result"
    }
   ],
   "source": [
    "og_df[og_df.household_id == 20][var]"
   ]
  },
  {
   "cell_type": "markdown",
   "metadata": {},
   "source": [
    "-7 means other, so all of these households can go to 0. \n"
   ]
  },
  {
   "cell_type": "code",
   "execution_count": 66,
   "metadata": {},
   "outputs": [
    {
     "data": {
      "text/plain": [
       "Int64Index([226, 233, 669, 2176, 2286, 3617, 3903], dtype='int64', name='household_id')"
      ]
     },
     "execution_count": 66,
     "metadata": {},
     "output_type": "execute_result"
    }
   ],
   "source": [
    "df[df[var] == -0.6].index"
   ]
  },
  {
   "cell_type": "code",
   "execution_count": 67,
   "metadata": {},
   "outputs": [
    {
     "data": {
      "text/plain": [
       "1120    1\n",
       "1121   -7\n",
       "1122    1\n",
       "1123    1\n",
       "1124    1\n",
       "Name: ref_race, dtype: int8"
      ]
     },
     "execution_count": 67,
     "metadata": {},
     "output_type": "execute_result"
    }
   ],
   "source": [
    "og_df[og_df.household_id == 226][var]"
   ]
  },
  {
   "cell_type": "code",
   "execution_count": 68,
   "metadata": {},
   "outputs": [
    {
     "data": {
      "text/plain": [
       "1155    1\n",
       "1156    1\n",
       "1157    1\n",
       "1158    1\n",
       "1159   -7\n",
       "Name: ref_race, dtype: int8"
      ]
     },
     "execution_count": 68,
     "metadata": {},
     "output_type": "execute_result"
    }
   ],
   "source": [
    "og_df[og_df.household_id == 233][var]"
   ]
  },
  {
   "cell_type": "markdown",
   "metadata": {},
   "source": [
    "For some reason the imputed dataset also seems to impute race to other in some cases. Anything that is not -7 for race may have to go to 1."
   ]
  },
  {
   "cell_type": "code",
   "execution_count": 69,
   "metadata": {},
   "outputs": [
    {
     "data": {
      "text/plain": [
       "Int64Index([46], dtype='int64', name='household_id')"
      ]
     },
     "execution_count": 69,
     "metadata": {},
     "output_type": "execute_result"
    }
   ],
   "source": [
    "df[df[var] == -1.8].index"
   ]
  },
  {
   "cell_type": "code",
   "execution_count": 70,
   "metadata": {},
   "outputs": [
    {
     "data": {
      "text/plain": [
       "225   -7\n",
       "226    2\n",
       "227    1\n",
       "228   -7\n",
       "229    2\n",
       "Name: ref_race, dtype: int8"
      ]
     },
     "execution_count": 70,
     "metadata": {},
     "output_type": "execute_result"
    }
   ],
   "source": [
    "og_df[og_df.household_id == 46][var]"
   ]
  },
  {
   "cell_type": "markdown",
   "metadata": {},
   "source": [
    "I think given the mixture of races in the imputed data for each HH and their relatively low number, all of these will go to 0."
   ]
  },
  {
   "cell_type": "markdown",
   "metadata": {},
   "source": [
    "### `ref_educ`"
   ]
  },
  {
   "cell_type": "code",
   "execution_count": 53,
   "metadata": {},
   "outputs": [
    {
     "data": {
      "text/plain": [
       "-1.0    9\n",
       "Name: ref_educ, dtype: int64"
      ]
     },
     "execution_count": 53,
     "metadata": {},
     "output_type": "execute_result"
    }
   ],
   "source": [
    "var = 'ref_educ'\n",
    "negs_dict['value_counts'][var]"
   ]
  },
  {
   "cell_type": "markdown",
   "metadata": {},
   "source": [
    "-1 means less than first grade so these will go to 0."
   ]
  },
  {
   "cell_type": "markdown",
   "metadata": {},
   "source": [
    "### `spouse_educ`"
   ]
  },
  {
   "cell_type": "code",
   "execution_count": 55,
   "metadata": {},
   "outputs": [
    {
     "data": {
      "text/plain": [
       "-1.0    6\n",
       "Name: spouse_educ, dtype: int64"
      ]
     },
     "execution_count": 55,
     "metadata": {},
     "output_type": "execute_result"
    }
   ],
   "source": [
    "var = 'spouse_educ'\n",
    "negs_dict['value_counts'][var]"
   ]
  },
  {
   "cell_type": "markdown",
   "metadata": {},
   "source": [
    "Same as `ref_educ`"
   ]
  },
  {
   "cell_type": "markdown",
   "metadata": {},
   "source": [
    "### `total_income`"
   ]
  },
  {
   "cell_type": "code",
   "execution_count": 71,
   "metadata": {},
   "outputs": [
    {
     "data": {
      "text/plain": [
       "-9.0    36\n",
       "-1.0     9\n",
       "Name: total_income, dtype: int64"
      ]
     },
     "execution_count": 71,
     "metadata": {},
     "output_type": "execute_result"
    }
   ],
   "source": [
    "var = 'total_income'\n",
    "negs_dict['value_counts'][var]"
   ]
  },
  {
   "cell_type": "markdown",
   "metadata": {},
   "source": [
    "-1 is nothing and -9 is negative income generally, so all of these will go to 0. "
   ]
  },
  {
   "cell_type": "markdown",
   "metadata": {},
   "source": [
    "### `life_ins_cash_value`"
   ]
  },
  {
   "cell_type": "code",
   "execution_count": 72,
   "metadata": {},
   "outputs": [
    {
     "data": {
      "text/plain": [
       "-1.0    42\n",
       "Name: life_ins_cash_value, dtype: int64"
      ]
     },
     "execution_count": 72,
     "metadata": {},
     "output_type": "execute_result"
    }
   ],
   "source": [
    "var = 'life_ins_cash_value'\n",
    "negs_dict['value_counts'][var]"
   ]
  },
  {
   "cell_type": "markdown",
   "metadata": {},
   "source": [
    "-1 is also nothing, so goes to 0. This is getting tedious. I've adjusted the dict."
   ]
  },
  {
   "cell_type": "code",
   "execution_count": 73,
   "metadata": {},
   "outputs": [
    {
     "data": {
      "text/plain": [
       "{'ref_race': -7.0    324\n",
       " -0.6      7\n",
       " -2.2      1\n",
       " -0.4      1\n",
       " -1.8      1\n",
       " -2.0      1\n",
       " Name: ref_race, dtype: int64, 'ref_educ': -1.0    9\n",
       " Name: ref_educ, dtype: int64, 'spouse_educ': -1.0    6\n",
       " Name: spouse_educ, dtype: int64, 'total_income': -9.0    36\n",
       " -1.0     9\n",
       " Name: total_income, dtype: int64, 'life_ins_cash_value': -1.0    42\n",
       " Name: life_ins_cash_value, dtype: int64, 'total_cc_limit': -1.0    12\n",
       " Name: total_cc_limit, dtype: int64, 'num_fin_inst': -1.0    136\n",
       " -0.6      1\n",
       " Name: num_fin_inst, dtype: int64, 'cc_newcharges_value': -1.0    290\n",
       " -2.0    169\n",
       " -3.0      8\n",
       " Name: cc_newcharges_value, dtype: int64, 'cc_currbal_value': -2.0    1219\n",
       " -1.0    1071\n",
       " -3.0     259\n",
       " -1.6       1\n",
       " -2.2       1\n",
       " -2.8       1\n",
       " -2.6       1\n",
       " -2.4       1\n",
       " Name: cc_currbal_value, dtype: int64, 'checking_accts_value': -1.0    53\n",
       " -2.0     5\n",
       " Name: checking_accts_value, dtype: int64, 'savings_accts_value': -1.0    8\n",
       " -2.0    3\n",
       " -5.0    1\n",
       " Name: savings_accts_value, dtype: int64, 'lqd_assets': -1.0    36\n",
       " -2.0     6\n",
       " Name: lqd_assets, dtype: int64}"
      ]
     },
     "execution_count": 73,
     "metadata": {},
     "output_type": "execute_result"
    }
   ],
   "source": [
    "negs_dict['value_counts']"
   ]
  },
  {
   "cell_type": "markdown",
   "metadata": {},
   "source": [
    "## Saving a Sample"
   ]
  },
  {
   "cell_type": "code",
   "execution_count": null,
   "metadata": {},
   "outputs": [],
   "source": [
    "csv_head = df.head()"
   ]
  },
  {
   "cell_type": "code",
   "execution_count": null,
   "metadata": {},
   "outputs": [],
   "source": [
    "csv_head.to_csv('example_data.csv', index=False)"
   ]
  },
  {
   "cell_type": "code",
   "execution_count": null,
   "metadata": {},
   "outputs": [],
   "source": [
    "csv_head.shape"
   ]
  },
  {
   "cell_type": "markdown",
   "metadata": {},
   "source": [
    "## Checking zips"
   ]
  },
  {
   "cell_type": "code",
   "execution_count": null,
   "metadata": {},
   "outputs": [],
   "source": [
    "url = 'https://www.federalreserve.gov/econres/files/scf2019s.zip'\n",
    "\n",
    "year = 2019\n",
    "targetzip = targetdir + f'SCF{str(year)}_data_public.zip'\n",
    "\n",
    "\n",
    "output = dl.URL_DL_ZIP(targetzip, targetdir, url)\n",
    "output"
   ]
  },
  {
   "cell_type": "code",
   "execution_count": null,
   "metadata": {},
   "outputs": [],
   "source": [
    "# Add Implicate Number\n",
    "df['implicate'] = [x - y*10 for x, y in zip(df['imputed_hh_id'], df['household_id'])]\n",
    "# weighting dividing by 5 since data implicates being combined for regression\n",
    "df['across_imp_weighting'] = [x/5 for x in df['weighting']]"
   ]
  },
  {
   "cell_type": "code",
   "execution_count": null,
   "metadata": {},
   "outputs": [],
   "source": [
    "df.head()"
   ]
  },
  {
   "cell_type": "code",
   "execution_count": null,
   "metadata": {},
   "outputs": [],
   "source": [
    "targetzip = 'data/extracted/target.zip'\n",
    "targetzip.rsplit('.', 1)[0]"
   ]
  },
  {
   "cell_type": "code",
   "execution_count": null,
   "metadata": {},
   "outputs": [],
   "source": [
    "import seaborn as sns\n",
    "import matplotlib.pyplot as plt\n",
    "fig, ax = plt.subplots(figsize=(10,8))\n",
    "sns.set_theme(style=\"darkgrid\")\n",
    "\n",
    "sns.scatterplot(\n",
    "    data = df[df.implicate ==1], y=\"lqd_net_worth\", x=\"total_income\",\n",
    ")"
   ]
  },
  {
   "cell_type": "markdown",
   "metadata": {},
   "source": [
    "## IID Random Sampling\n",
    "\n",
    "Consider how to do that with this dataset"
   ]
  },
  {
   "cell_type": "markdown",
   "metadata": {},
   "source": [
    "## RII Regression"
   ]
  },
  {
   "cell_type": "code",
   "execution_count": null,
   "metadata": {},
   "outputs": [],
   "source": [
    "dl.RII(df,\n",
    "       Xseries=['stock_mkt_value'],\n",
    "       y='total_income')"
   ]
  },
  {
   "cell_type": "code",
   "execution_count": null,
   "metadata": {},
   "outputs": [],
   "source": [
    "output[1]"
   ]
  },
  {
   "cell_type": "markdown",
   "metadata": {},
   "source": [
    "## Archiving and Logging"
   ]
  },
  {
   "cell_type": "code",
   "execution_count": null,
   "metadata": {},
   "outputs": [],
   "source": [
    "url = 'https://www.federalreserve.gov/econres/files/scf2016s.zip'\n",
    "\n",
    "df = dl.archive(url = url,\n",
    "          targetdir = targetdir)\n",
    "\n",
    "df.index.max()\n",
    "\n"
   ]
  },
  {
   "cell_type": "code",
   "execution_count": null,
   "metadata": {},
   "outputs": [],
   "source": [
    "df"
   ]
  },
  {
   "cell_type": "code",
   "execution_count": null,
   "metadata": {},
   "outputs": [],
   "source": [
    "d = df.to_dict()\n",
    "\n",
    "for key in d:\n",
    "    print(key)\n",
    "    for subkey in d[key]:\n",
    "        print(subkey)\n",
    "        print(type(d[key][subkey]))"
   ]
  },
  {
   "cell_type": "markdown",
   "metadata": {},
   "source": [
    "## Misc."
   ]
  },
  {
   "cell_type": "code",
   "execution_count": null,
   "metadata": {},
   "outputs": [],
   "source": [
    "len(coeffs[i])"
   ]
  },
  {
   "cell_type": "code",
   "execution_count": null,
   "metadata": {},
   "outputs": [],
   "source": [
    "import numpy as np\n",
    "from scipy import stats\n",
    "\n",
    "coeffs = output[0]\n",
    "m = 5\n",
    "s = []\n",
    "k = len(coeffs[1][0])\n",
    "\n",
    "#  point estimates for each coeff \n",
    "\n",
    "for n in range(k):\n",
    "    s.append([])\n",
    "\n",
    "\n",
    "for i in range(m):\n",
    "    i += 1\n",
    "    for n in range(k):\n",
    "        s[n].append(coeffs[i][0][n])\n",
    "        \n",
    "Qm_bar = []    \n",
    "for n in range(k):\n",
    "    \n",
    "    ssum = sum(s[n]) / m\n",
    "    Qm_bar.append(ssum)\n",
    "    \n",
    "Qm_bar = np.array([Qm_bar])    \n",
    "\n",
    "\n",
    "    \n",
    "\n",
    "# var-cov matrix of point estimates\n",
    "summand_set = np.zeros((k, k))\n",
    "for i in range(m):\n",
    "    i+=1\n",
    "    var = coeffs[i] - Qm_bar\n",
    "\n",
    "    summand = var.T * var\n",
    "    \n",
    "    summand_set = summand_set + summand\n",
    "    \n",
    "Bm = summand_set / (m-1)\n",
    "\n",
    "\n",
    "# avg of variance-cov matrices\n",
    "summand_set = np.zeros((k,k))\n",
    "var_matrices = output[1]\n",
    "\n",
    "for i in range(m):\n",
    "    i+=1\n",
    "    summand = var_matrices[i]\n",
    "    \n",
    "    summand_set = summand_set + summand\n",
    "    \n",
    "Um_bar = summand_set/m\n",
    "\n",
    "\n",
    "# total variance of regression coeff.\n",
    "Tm = Um_bar + (1 + m**(-1))*Bm\n",
    "\n",
    "\n",
    "# std dev of regression coeff.\n",
    "Stddev = Tm**(1/2)\n",
    "\n",
    "# t stats of regression coeff.\n",
    "t_stats = Qm_bar/Stddev\n",
    "\n",
    "    \n",
    "# Relative increase in variance due to nonresponse\n",
    "R_m =  ((1 + m**(-1))*Bm\n",
    "      / Um_bar)\n",
    "\n",
    "# Degrees of freedom\n",
    "v = ((m-1)\n",
    "     *(1+R_m**(-1))**(2))\n",
    "\n",
    "p_values = []\n",
    "for i in range(k):\n",
    "    p_values.append(stats.t.sf(abs(t_stats[i][i]), df=v[i][i])*2) \n",
    "    \n",
    "# P-values    \n",
    "p_dict = {}\n",
    "X_vars = ['intercept','ref_age','doctorate_deg', 'professional_deg', 'master_deg', 'college_deg', 'hs_deg']\n",
    "for i in range(k):\n",
    "    p_dict[X_vars[i]] = p_values[i] \n",
    "p_dict    "
   ]
  },
  {
   "cell_type": "code",
   "execution_count": null,
   "metadata": {},
   "outputs": [],
   "source": [
    "df.head()"
   ]
  },
  {
   "cell_type": "code",
   "execution_count": null,
   "metadata": {},
   "outputs": [],
   "source": [
    "weights = ((df.weighting.sum())/5)\n",
    "\n",
    "n = (df.shape[0]/5)\n",
    "\n",
    "print(f'weights: {weights}')\n",
    "print(f'n: {n}')\n",
    "print(f'n: {weights*n}')"
   ]
  },
  {
   "cell_type": "code",
   "execution_count": null,
   "metadata": {},
   "outputs": [],
   "source": [
    "list(df.keys())[3:-3]"
   ]
  },
  {
   "cell_type": "code",
   "execution_count": null,
   "metadata": {},
   "outputs": [],
   "source": [
    "# financially independent between 21 and 35\n",
    "query = (df['ref_age'] <= 35) & (df['persons_in_PEU'] == 1) & (df['ref_age'] >= 21)\n",
    "\n",
    "len(df[query].household_id.unique())\n",
    "df[query].implicate.value_counts()"
   ]
  },
  {
   "cell_type": "code",
   "execution_count": null,
   "metadata": {},
   "outputs": [],
   "source": [
    "import matplotlib.pyplot as plt\n",
    "\n",
    "#financially independent between 21 and 30\n",
    "\n",
    "query = (df['x8022'] <= 30) & (df['x7001'] == 1) & (df['x8022'] >= 21)\n",
    "x = df[query].x8022.value_counts().index\n",
    "y = df[query].x8022.value_counts().values\n",
    "\n",
    "plt.bar(x=x,\n",
    "       height=y)\n",
    "\n",
    "plt.show()\n",
    "\n",
    "## number of people in PEUs\n"
   ]
  },
  {
   "cell_type": "code",
   "execution_count": null,
   "metadata": {},
   "outputs": [],
   "source": [
    "df = dl.clean_df(df)\n",
    "df.sample(5)"
   ]
  },
  {
   "cell_type": "code",
   "execution_count": null,
   "metadata": {},
   "outputs": [],
   "source": []
  },
  {
   "cell_type": "code",
   "execution_count": null,
   "metadata": {},
   "outputs": [],
   "source": [
    "\"\"\"XX1             Internal case ID (8-digit) -- identical for\n",
    "                all imputation replicates (\"implicates\")\n",
    "                \n",
    "                NOTE: includes IDs of cases not released to the field (list\n",
    "                sample replicate cases and postcard refusals)\n",
    "                *********************************************************\n",
    "                    NOT INCLUDED IN THE PUBLIC DATA SET\n",
    "                *********************************************************\n",
    "\n",
    "\n",
    "X1              Internal ID/replicate number -- XX1*10 + imputation replicate\n",
    "                number (1-5)\n",
    "                *********************************************************\n",
    "                    NOT INCLUDED IN THE PUBLIC DATA SET\n",
    "                *********************************************************\n",
    "\n",
    "YY1             Case ID for external users\n",
    "\n",
    "                     0.     Inap. (not a completed interview)\n",
    "\n",
    "Y1              Equivalent for X1 for external users\n",
    "\n",
    "                     0.     Inap. (not a completed interview)\n",
    "                     \n",
    "Regional data not included in public dataset \n",
    "\n",
    "\"\"\"\n",
    "\n",
    "\"\"\"EDUCATION\n",
    " 1.    *1st, 2nd, 3rd, or 4th grade\n",
    "                     2.    *5th or 6th grade\n",
    "                     3.    *7th and 8th grade\n",
    "                     4.    *9th grade\n",
    "                     5.    *10th grade\n",
    "                     6.    *11th grade\n",
    "                     7.    *12th grade, no diploma\n",
    "                     8.    *High school graduate - high school diploma or equivalent\n",
    "                     9.    *Some college but no degree\n",
    "                    10.    *Associate degree in college - occupation/vocation program\n",
    "                    11.    *Associate degree in college - academic program\n",
    "                    12.    *Bachelor's degree (for example: BA, AB, BS)\n",
    "                    13.    *Master's degree ( for exmaple: MA, MS, MENG, MED, MSW, MBA)\n",
    "                    14.    *Professional school degree (for example: MD, DDS, DVM, LLB, JD)\n",
    "                    15.    *Doctorate degree (for example: PHD, EDD)\n",
    "                    -1.    *Less than 1st grade\n",
    "                     0.     Inap. (no spouse/partner;)\n",
    "                *********************************************************\n",
    "                    FOR THE PUBLIC DATA SET, CODES 2, 3, 4, 5, 6, AND 7\n",
    "                    ARE COMBINED WITH CODE 1; CODE 10 AND CODE 11 ARE\n",
    "                    COMBINED WITH CODE 9, AND; CODES 13, 14, AND 15 ARE\n",
    "                    COMBINED WITH CODE 12\n",
    "                *********************************************************\n",
    "\n",
    "\"\"\"\n",
    "rename_dict = {'yy1': 'household_id',\n",
    "               'y1': 'imputed_hh_id',\n",
    "               'x42001': 'weighting',\n",
    "               'x7001': 'persons_in_PEU',\n",
    "               'x7020': 'spouse_part_of_PEU', ## 1 is not in PEU, 2 is in\n",
    "               'x102': 'ref_next_relative_type', ## 2 and 3 are spouses/partners, 1 is the respondent \n",
    "               'x8000': 'switch_of_resp_ref',\n",
    "               'x14': 'ref_age',\n",
    "               'x19': 'spouse_age',\n",
    "               'x8021': 'ref_sex',\n",
    "               'x103': 'spouse_sex',\n",
    "               'x6809': 'ref_race',\n",
    "               'x6810': 'spouse_race',\n",
    "               'x5931': 'ref_educ', ## doctorate and profession combined as code 14\n",
    "               'x6111': 'spouse_educ',\n",
    "               'x6780': 'ref_UE_last_year', # UE or looking for work in last year\n",
    "               'x6784': 'ref_UE_last_year',\n",
    "               'x7402': 'ref_industry_code', # 1 is agr, 2 energy/construction, 3 food, 4 trade/retail, 5 prof. services, 6 consumer services/goods, 7 public admin\n",
    "               'x7412': 'spouse_industry_code',\n",
    "               'x7401': 'ref_occ_code', # 1 is white-collar/services, 2 is front-line clerks/sales, 3 public institutions/entertainemnt front-line, 4 artisans, 5 industrial workers, 6 industrial managers\n",
    "               'x7411': 'spouse_occ_code',\n",
    "               'x501': 'primary_home_type', # 2 is mobile home, 2 is house/apt, 3 ranch, 5 farm\n",
    "               'x7136': 'chance_staying_home', # 0 - 100\n",
    "                   'x6026': 'ref_mom_living',\n",
    "                   'x6120': 'spouse_mom_living',\n",
    "                   'x6032': 'ref_mom_educ',\n",
    "                   'x6132': 'spouse_mom_educ',\n",
    "                   'x6027': 'ref_mom_age', ## FOR THE PUBLIC DATA SET, PARENTS' AGES ROUNDED TO NEAREST AND TOP-CODED AT 95\n",
    "                   'x6121': 'spouse_mom_age',\n",
    "                   'x6028': 'ref_dad_living',\n",
    "                   'x6122': 'spouse_dad_living',\n",
    "                   'x6033': 'ref_dad_educ',\n",
    "                   'x6133': 'spouse_dad_educ',\n",
    "                   'x6029': 'ref_dad_age',\n",
    "                   'x6123': 'spouse_dad_age',\n",
    "              'x5729': '2018_total_income',\n",
    "              'x7650': 'income_comparison', # 1 is high, 2 is low, 3 is normal compared to normal year\n",
    "              'x5802': 'inheritances',\n",
    "              'x6704': 'mutual_funds_value',\n",
    "              'x6706': 'bonds_mkt_value',\n",
    "              'x3915': 'stock_mkt_value',\n",
    "              'x6576': 'annuity_cash_value',\n",
    "              'x6587': 'trusts_cash_value',\n",
    "              'x4006': 'life_ins_cash_value',\n",
    "              'x414': 'total_cc_limit',\n",
    "              'x432': 'freq_cc_payment',\n",
    "              'x7575': 'rev_charge_accts'}\n",
    "\n",
    "df.rename(columns=rename_dict, inplace=True)\n",
    "df.head()"
   ]
  },
  {
   "cell_type": "code",
   "execution_count": null,
   "metadata": {},
   "outputs": [],
   "source": [
    "\n",
    "\n",
    "## Lines of credit\n",
    "LOC_owed_list = ['x1108',\n",
    "                 'x1119',\n",
    "                 'x1130',\n",
    "                 'x1136'\n",
    "                ]\n",
    "\n",
    "df['LOC_owed_now'] = (df['x1108']\n",
    "                    + df['x1119']\n",
    "                    + df['x1130']\n",
    "                    + df['x1136']\n",
    "                   )\n",
    "\n",
    "## Education loans\n",
    "educ_loans_owed_list = ['x7824',\n",
    "                        'x7847',\n",
    "                        'x7870',\n",
    "                        'x7924',\n",
    "                        'x7947',\n",
    "                        'x7970',\n",
    "                        'x7179'\n",
    "                       ]\n",
    "\n",
    "df['ed_loans_owed_now'] = (df['x7824']\n",
    "                           + df['x7847']\n",
    "                           + df['x7870']\n",
    "                           + df['x7924']\n",
    "                           + df['x7947']\n",
    "                           + df['x7970']\n",
    "                           + df['x7179']\n",
    "                          )\n",
    "\n",
    "\n",
    "\n",
    "## Relatives living in HH\n",
    "\"\"\"\n",
    "                     1.    *RESPONDENT\n",
    "                     2.    *SPOUSE; Spouse of R\n",
    "                     3.    *PARTNER; Partner of R\n",
    "                     4.    *CHILD (in-law) (of R or Spouse/Partner)\n",
    "                     5.    *GRANDCHILD\n",
    "                     6.    *PARENT\n",
    "                     7.    *GRANDPARENT\n",
    "                     8.    *AUNT/UNCLE\n",
    "                     9.    *COUSIN\n",
    "                    10.    *NIECE/NEPHEW\n",
    "                    11.    *SISTER/BROTHER\n",
    "                    12.    *GREAT GRANDCHILD\n",
    "                    29.    *OTHER RELATIVE\n",
    "                    31.    *ROOMMATE\n",
    "                    32.    *FRIEND\n",
    "                    34.    *BOARDER OR ROOMER/LODGER\n",
    "                    35.    *PAID HELP; maid, etc.\n",
    "                    36.    *FOSTER CHILD\n",
    "                    39.    *OTHER UNRELATED PERSON\n",
    "                     0.     Inap. (no further persons)\n",
    "                *********************************************************\n",
    "                    FOR THE PUBLIC DATA SET, CODE 12 IS COMBINED WITH\n",
    "                    CODE 5; CODES 31, 32, AND 36 ARE COMBINED WITH CODE\n",
    "                    39; CODES 9 AND 10 ARE COMBINED WITH CODE 29\n",
    "                *********************************************************\n",
    "\"\"\"\n",
    "\n",
    "person_types_in_HH = ['x8020', \n",
    "                      'x102',\n",
    "                      'x108',\n",
    "                      'x114',\n",
    "                      'x120',\n",
    "                      'x126',\n",
    "                      'x132',\n",
    "                      'x202',\n",
    "                      'x208',\n",
    "                      'x214',\n",
    "                      'x220',\n",
    "                      'x226'\n",
    "                     ]\n",
    "\n",
    "## CREDIT cards\n",
    "cc_newcharges_list = ['x412',\n",
    "                 'x420',\n",
    "                 'x426'\n",
    "                ]\n",
    "\n",
    "df['cc_newcharges_value'] = (df['x412']\n",
    "                     + df['x420']\n",
    "                     + df['x426']\n",
    "                    )\n",
    "\n",
    "cc_currbal_list = ['x413',\n",
    "                 'x421',\n",
    "                 'x427'\n",
    "                ]\n",
    "\n",
    "df['cc_currbal_value'] = (df['x413']\n",
    "                     + df['x421']\n",
    "                     + df['x427']\n",
    "                    )\n",
    "\n",
    "## CHECKING Nos. 1-6 have detailed data, 7 is remaining accounts\n",
    "\n",
    "checking_accts_list = ['x3506',\n",
    "                       'x3510',\n",
    "                       'x3514',\n",
    "                       'x3518',\n",
    "                       'x3522',\n",
    "                       'x3526',\n",
    "                       'x3529'\n",
    "                      ]\n",
    "\n",
    "df['checking_accts_value'] = (df['x3506']\n",
    "                              + df['x3510']\n",
    "                              + df['x3514']\n",
    "                              + df['x3518']\n",
    "                             + df['x3522']\n",
    "                             + df['x3526']\n",
    "                             + df['x3529']\n",
    "                             )\n",
    "\n",
    "## SAVINGS accts\n",
    "\n",
    "\"\"\"\n",
    "\n",
    "                     1.    *TRADITIONAL SAVINGS ACCOUNT; \"passbook account\";\n",
    "                            \"statement account\"\n",
    "                     2.    *COVERDELL/EDUCATION IRA\n",
    "                     3.    *529/STATE-SPONSORED EDUCATION ACCOUNT\n",
    "                     4.    *MONEY MARKET ACCOUNT\n",
    "                     5.     Christmas club account; other account for\n",
    "                            designated saving purpose (e.g., vacation)\n",
    "                     6.     Share account\n",
    "                     7.    *HEALTH SAVINGS ACCOUNT; medical savings account\n",
    "                    12.    *OTHER FLOATING-RATE SAVINGS ACCOUNT\n",
    "                            (other than those coded 4)\n",
    "                    14.     Informal group saving arrangement\n",
    "                    20.     Foreign account type\n",
    "                    30.    *SWEEP ACCOUNT n.e.c.; cash management account\n",
    "                    -7.    *OTHER\n",
    "                     0.     Inap. (no savings accounts: X3727^=1/fewer than 2\n",
    "                            accounts: X3728<2/fewer than 3 account: X3728<3/\n",
    "                            fewer than 4 accounts: X3728<4/fewer than 5\n",
    "                            accounts: X3728<5/fewer than 6 accounts)\n",
    "                *********************************************************\n",
    "                    FOR THE PUBLIC DATA SET, CODES 6, 14, AND 20 ARE\n",
    "                    COMBINED WITH CODE 1; CODES 3 AND 7 ARE COMBINED\n",
    "                    WITH CODE 2; CODE 30 IS COMBINED WITH CODE 12\n",
    "                *********************************************************\n",
    "\"\"\"\n",
    "## Nos. 1-6 have detailed data, 7 is remaining accounts\n",
    "savings_accts_list = ['x3730',\n",
    "                      'x3736',\n",
    "                      'x3742',\n",
    "                      'x3748',\n",
    "                      'x3754',\n",
    "                      'x3760',\n",
    "                      'x3765'\n",
    "                     ]\n",
    "\n",
    "savings_accts_types = [df['x3732'],\n",
    "                          df['x3738'],\n",
    "                          df['x3744'],\n",
    "                          df['x3750'],\n",
    "                          df['x3756'],\n",
    "                          df['x3762']\n",
    "                      ]\n",
    "\n",
    "savings_accts_incl_codes = [1, 4, 12]\n",
    "\n",
    "# inlcuding only unincumbered savings\n",
    "for i in savings_accts_list:\n",
    "    for n in savings_accts_types:\n",
    "        df[i] = [(y if x in savings_accts_incl_codes \n",
    "                  else 0) \n",
    "                 for x, y in zip(n, df[i])]\n",
    "\n",
    "df['savings_accts_value'] = (df['x3730']\n",
    "                              + df['x3736']\n",
    "                              + df['x3742']\n",
    "                              + df['x3748']\n",
    "                             + df['x3754']\n",
    "                             + df['x3760']\n",
    "                             + df['x3765']\n",
    "                            )\n",
    "                      "
   ]
  }
 ],
 "metadata": {
  "kernelspec": {
   "display_name": "learn-env",
   "language": "python",
   "name": "learn-env"
  },
  "language_info": {
   "codemirror_mode": {
    "name": "ipython",
    "version": 3
   },
   "file_extension": ".py",
   "mimetype": "text/x-python",
   "name": "python",
   "nbconvert_exporter": "python",
   "pygments_lexer": "ipython3",
   "version": "3.6.10"
  }
 },
 "nbformat": 4,
 "nbformat_minor": 4
}
