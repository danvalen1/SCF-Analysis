{
 "cells": [
  {
   "cell_type": "markdown",
   "metadata": {},
   "source": [
    "# **Vanguard's \\$1,000 Question: Analyzing U.S. Households' Liquid Assets for Mutual Fund Investment**\n",
    "## Dan Valenzuela\n",
    "\n",
    "***"
   ]
  },
  {
   "cell_type": "markdown",
   "metadata": {},
   "source": [
    "## **Overview** <a id=\"Overview\"></a>"
   ]
  },
  {
   "cell_type": "markdown",
   "metadata": {},
   "source": [
    " "
   ]
  },
  {
   "cell_type": "markdown",
   "metadata": {},
   "source": [
    "[**1. Problem**](#Problem)\n",
    "\n",
    "[**2. Data Understanding**](#Data-Understanding)\n",
    "\n",
    "[**3. Data Preparation**](#Data-Preparation)\n",
    "\n",
    "[**4. Data Analysis**](#Data-Analysis)\n",
    "\n",
    "[**5. Evaluation**](#Evaluation)\n",
    "\n",
    "[**6. Conclusion & Next Steps**](#Conclusion)\n",
    "\n",
    "[**7. Endnotes**](#Endnotes)\n",
    "\n",
    "***"
   ]
  },
  {
   "cell_type": "markdown",
   "metadata": {},
   "source": [
    "## **Problem** <a id=\"Problem\"></a>\n",
    "[*↑ Back to overview*](#Overview)"
   ]
  },
  {
   "cell_type": "markdown",
   "metadata": {},
   "source": [
    "4 in 5 households that invest with Vanguard utilize mutual funds to meet their financial goals.<a id='fn-1-src'></a>[<sup>1</sup>](#fn-1) Mutual funds are essentially like any other company but their sole purpose is to pool money from investors and invest it into stocks, bonds, or other financial products. When a person invests in Vanguard mutual funds, what they are essentially doing is buying shares in a company that Vanguard has set up for the purpose of investing money in a certain way. In return, that person gets a cut of the returns (or losses) on investment.\n",
    "\n",
    "Why do so many households use mutual funds? It outsources all the effort of researching companies, executing trades, and paying trading fees to the mutual fund. For that effort, mutual funds charge a fee based on the amount households invest.<a id='fn-2-src'></a>[<sup>2</sup>](#fn-2)\n",
    "\n",
    "However, it's not so easy as telling companies that set up mutual funds like Vanguard to shut up and take your money. Vanguard requires investors to put in at least \\$1,000 for some of their mutual funds. Other mutual fund investment minimums only go higher. <a id='fn-3-src'></a>[<sup>3</sup>](#fn-3)\n",
    "\n"
   ]
  },
  {
   "cell_type": "markdown",
   "metadata": {},
   "source": [
    "About half of the households invested with Vanguard have at least one taxable account. "
   ]
  },
  {
   "cell_type": "markdown",
   "metadata": {},
   "source": [
    "[*↑ Back to overview*](#Overview)\n",
    "***"
   ]
  },
  {
   "cell_type": "markdown",
   "metadata": {},
   "source": [
    "## **Data Understanding** <a id=\"Data-Understanding\"></a>\n",
    "[*↑ Back to overview*](#Overview)"
   ]
  },
  {
   "cell_type": "code",
   "execution_count": 1,
   "metadata": {},
   "outputs": [],
   "source": [
    "%load_ext autoreload\n",
    "%autoreload 2\n",
    "\n",
    "import dataloading as dl\n",
    "\n",
    "targetdir = 'data/extracted/'"
   ]
  },
  {
   "cell_type": "markdown",
   "metadata": {},
   "source": [
    "### Datasets\n",
    "\n",
    "The data can be summarized by the [Federal Reserve](https://www.federalreserve.gov/publications/files/scf20.pdf) itself <a id='fn-2-src'></a>[<sup>2</sup>](#fn-2): \n",
    "\n",
    "> The SCF is a triennial interview survey of U.S. families sponsored by the\n",
    "Board of Governors of the Federal Reserve System with the cooperation of the U.S.\n",
    "Department of the Treasury. Since 1992, data for the SCF have been collected by NORC, a\n",
    "research organization at the University of Chicago. Although the majority of the data are\n",
    "collected between May and December of each survey year, a small fraction of the data\n",
    "collection occurs in the first four months of the next calendar year. In the 2019 SCF, this\n",
    "portion of the data collection overlapped with early months of the COVID-19 pandemic,\n",
    "with about 9 percent of interviews conducted between February and April 2020.\n",
    "\n",
    " "
   ]
  },
  {
   "cell_type": "markdown",
   "metadata": {},
   "source": [
    "### Sampling\n",
    "From [Federal Reserve Bulletin 2020 at 40](https://www.federalreserve.gov/publications/files/scf20.pdf)\n",
    ">First, a standard multistage area-probability sample (a geographically based random sample) is selected\n",
    "to provide good coverage of characteristics, such as homeownership, that are broadly\n",
    "distributed in the population.\n",
    "Second, a supplemental sample is selected to disproportionately include wealthy families,\n",
    "which hold a relatively large share of such thinly held assets as noncorporate businesses\n",
    "and tax-exempt bonds. Called the “list sample,” this group is drawn from a list of statistical\n",
    "records derived from tax returns. These records are used under strict rules governing\n",
    "confidentiality, the rights of potential respondents to refuse participation in the survey, and\n",
    "the types of information that can be made available. Persons listed by Forbes as being\n",
    "among the wealthiest 400 people in the United States are excluded from sampling.\n",
    "\n",
    ">Of the 5,783 interviews completed for the 2019 SCF, 4,291 were from the area-probability\n",
    "sample, and 1,492 were from the list sample; for 2016, 4,754 were from the area-probability\n",
    "sample, and 1,500 were from the list sample."
   ]
  },
  {
   "cell_type": "markdown",
   "metadata": {},
   "source": [
    "### Weighting\n",
    "\n",
    "From [Federal Reserve Bulletin 2020 at 42](https://www.federalreserve.gov/publications/files/scf20.pdf)\n",
    "\n",
    ">To provide a measure of the frequency with which families similar to the sample families\n",
    "could be expected to be found in the population of all families, an analysis weight is\n",
    "computed for each case, accounting for both the systematic properties of the sample design\n",
    "and differential patterns of nonresponse. The SCF response rates are low by the standards\n",
    "of some other major government surveys, and analysis of the data confirms that the\n",
    "tendency to refuse participation is highly correlated with net worth. However, unlike other\n",
    "surveys, which almost certainly also have differential nonresponse by wealthy households,\n",
    "the SCF has the means to adjust for such nonresponse."
   ]
  },
  {
   "cell_type": "markdown",
   "metadata": {},
   "source": [
    "From [Codebook 2019](https://www.federalreserve.gov/econres/files/codebk2019.txt)\n",
    "> The issue of weighting in regressions has long been controversial.\n",
    "Users of the SCF may find two references particularly useful:\n",
    "(1) Analysis of Complex Surveys, C.J. Skinner, D. Holt, and\n",
    "T.M.F. Smith (editors), John Wiley and Sons, 1989 (see particularly\n",
    "pages 8-10, 154-157, and 286-287). (2) The Analysis of Household\n",
    "Surveys: A Microeconometric Approach to Development Policy, Angus\n",
    "Deaton, Johns Hopkins University Press, 1997 (see particularly pages\n",
    "67-73).  "
   ]
  },
  {
   "cell_type": "markdown",
   "metadata": {},
   "source": [
    "### Imputation\n",
    "\n",
    "From [Codebook 2019](https://www.federalreserve.gov/econres/files/codebk2019.txt)\n",
    "\n",
    "> The imputations are stored as five successive replicates\n",
    "(\"implicates\") of each data record.  Thus, the number of observations\n",
    "in the full data set (28,915) is five times the actual number of\n",
    "respondents (5,783)\n",
    "\n",
    ">Users who want to estimate more complex statistics, particularly\n",
    "regressions, should be cautious in their treatment of the implicates.\n",
    "Some regression packages will treat each of the five implicates as an\n",
    "independent observation and correspondingly inflate the reported\n",
    "statistical significance of results.  Users who want to calculate\n",
    "regression estimates, but who have no immediate use for proper significance\n",
    "tests, could either average the dependent and independent values\n",
    "across the implicates or multiply their standard errors by the square\n",
    "root of five.  For an easily understandable discussion of multiple\n",
    "imputation in the SCF from a user's point of view, see Catherine\n",
    "Montalto and Jaimie Sung, \"Multiple Imputation in the 1992 Survey of\n",
    "Consumer Finances,\" Financial Counseling and Planning, Volume 7, 1996,\n",
    "pages 133-146 (http://afcpe.org/assets/pdf/vol7_133-146multipleimputation.pdf).\n",
    "That article also contains a set of simple SAS macros to\n",
    "use to compute correct standard errors from multiply imputed data.\n",
    "Two alternatives for processing general model estimates are offered\n",
    "here, one written in SAS (MACRO MISECOMP) and the other in a Stata\n",
    "ado file (micombine).  (NOTE: both SAS and Stata now include regression\n",
    "packages for the analysis of multiply imputed data.)  See the section\n",
    "\"ANALYSIS WEIGHTS\" below for a brief discussion of the inclusion of\n",
    "sample design effects in the estimation of complex statistics"
   ]
  },
  {
   "cell_type": "markdown",
   "metadata": {},
   "source": [
    "### Key Data for Merging Datasets and Analysis <a id=\"Key-Data\" ></a>\n",
    "\n"
   ]
  },
  {
   "cell_type": "markdown",
   "metadata": {},
   "source": [
    "[*↑ Back to overview*](#Overview)\n",
    "***"
   ]
  },
  {
   "cell_type": "markdown",
   "metadata": {},
   "source": [
    "## **Data Preparation** <a id=\"Data-Preparation\"></a>\n",
    "[*↑ Back to overview*](#Overview)"
   ]
  },
  {
   "cell_type": "markdown",
   "metadata": {},
   "source": [
    "### Merging Data\n",
    "\n",
    "\n",
    "\n"
   ]
  },
  {
   "cell_type": "markdown",
   "metadata": {},
   "source": [
    "### Cleaning Data <a id=\"Cleaning-Data\"></a>\n",
    "\n"
   ]
  },
  {
   "cell_type": "markdown",
   "metadata": {},
   "source": [
    "[*↑ Back to overview*](#Overview)\n",
    "***"
   ]
  },
  {
   "cell_type": "markdown",
   "metadata": {},
   "source": [
    "## **Data Analysis** <a id=\"Data-Analysis\"></a>\n",
    "[*↑ Back to overview*](#Overview)"
   ]
  },
  {
   "cell_type": "markdown",
   "metadata": {},
   "source": [
    "[*↑ Back to overview*](#Overview)\n",
    "***"
   ]
  },
  {
   "cell_type": "markdown",
   "metadata": {},
   "source": [
    "## **Evaluation**<a id=\"Evaluation\"></a>\n",
    "[*↑ Back to overview*](#Overview)"
   ]
  },
  {
   "cell_type": "markdown",
   "metadata": {},
   "source": [
    "[*↑ Back to overview*](#Overview)\n",
    "***"
   ]
  },
  {
   "cell_type": "markdown",
   "metadata": {},
   "source": [
    "## **Conclusion & Next Steps**<a id=\"Conclusion\"></a>\n",
    "[*↑ Back to overview*](#Overview)"
   ]
  },
  {
   "cell_type": "markdown",
   "metadata": {},
   "source": [
    "[*↑ Back to overview*](#Overview)\n",
    "***"
   ]
  },
  {
   "cell_type": "markdown",
   "metadata": {},
   "source": [
    "## **Endnotes** <a id=\"Endnotes\"></a>\n",
    "[*↑ Back to overview*](#Overview)\n"
   ]
  },
  {
   "cell_type": "markdown",
   "metadata": {},
   "source": [
    "<a id='fn-1'></a> [1.](#fn-1-src) *How America Invests 2020*. 2020. Vanguard. [https://personal.vanguard.com/pdf/how-america-invests-2020.pdf](https://personal.vanguard.com/pdf/how-america-invests-2020.pdf), 28.\n",
    "\n",
    "\n",
    "<a id='fn-2'></a> [2.](#fn-2-src) U.S. Securities and Exchange Commission. \"Mutual Funds\". Investor.gov. Date accessed: Dec. 10, 2020. [https://www.investor.gov/introduction-investing/investing-basics/investment-products/mutual-funds-and-exchange-traded-1](https://www.investor.gov/introduction-investing/investing-basics/investment-products/mutual-funds-and-exchange-traded-1).\n",
    "\n",
    "<a id='fn-3'></a> [3.](#fn-3-src) Vanguard. \"Vanguard mutal fund fees & minimums\". Mutual Funds. Date accessed: Dec. 10, 2020. [https://investor.vanguard.com/mutual-funds/fees](https://investor.vanguard.com/mutual-funds/fees)."
   ]
  },
  {
   "cell_type": "markdown",
   "metadata": {},
   "source": [
    "[*↑ Back to overview*](#Overview)"
   ]
  }
 ],
 "metadata": {
  "kernelspec": {
   "display_name": "learn-env",
   "language": "python",
   "name": "learn-env"
  },
  "language_info": {
   "codemirror_mode": {
    "name": "ipython",
    "version": 3
   },
   "file_extension": ".py",
   "mimetype": "text/x-python",
   "name": "python",
   "nbconvert_exporter": "python",
   "pygments_lexer": "ipython3",
   "version": "3.6.10"
  }
 },
 "nbformat": 4,
 "nbformat_minor": 4
}
